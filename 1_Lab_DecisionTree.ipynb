{
  "nbformat": 4,
  "nbformat_minor": 0,
  "metadata": {
    "colab": {
      "name": "1-Lab-DecisionTree.ipynb",
      "provenance": [],
      "collapsed_sections": [],
      "toc_visible": true,
      "include_colab_link": true
    },
    "kernelspec": {
      "display_name": "Python 3",
      "language": "python",
      "name": "python3"
    },
    "language_info": {
      "codemirror_mode": {
        "name": "ipython",
        "version": 3
      },
      "file_extension": ".py",
      "mimetype": "text/x-python",
      "name": "python",
      "nbconvert_exporter": "python",
      "pygments_lexer": "ipython3",
      "version": "3.7.3"
    }
  },
  "cells": [
    {
      "cell_type": "markdown",
      "metadata": {
        "id": "view-in-github",
        "colab_type": "text"
      },
      "source": [
        "<a href=\"https://colab.research.google.com/github/dpq3005/SOLID-principles/blob/master/1_Lab_DecisionTree.ipynb\" target=\"_parent\"><img src=\"https://colab.research.google.com/assets/colab-badge.svg\" alt=\"Open In Colab\"/></a>"
      ]
    },
    {
      "cell_type": "markdown",
      "metadata": {
        "colab_type": "text",
        "id": "gvKshvFzQorr"
      },
      "source": [
        "# Decision Tree in Python"
      ]
    },
    {
      "cell_type": "markdown",
      "metadata": {
        "colab_type": "text",
        "id": "YeHd4gDaQ0_c"
      },
      "source": [
        "## Introduction"
      ]
    },
    {
      "cell_type": "markdown",
      "metadata": {
        "colab_type": "text",
        "id": "VxauYFNjYzWw"
      },
      "source": [
        "\n",
        "* Author: thuanle@hcmut.edu.vn\n",
        "\n",
        "* Content:\n",
        "  - Practice the DecisionTree classifier\n",
        "  - Learn more about split the dataset into train and test.\n",
        "  - Evaluation by Accuracy score\n",
        "* Major steps:\n",
        "  - Load data from CSV, split into trainning set and test set\n",
        "  - Buidling kNN model.\n",
        "  - Evaluating results\n",
        "  - Training DecisionTree classifier model\n",
        "  - Evaluating results\n",
        "  - Visualize models"
      ]
    },
    {
      "cell_type": "markdown",
      "metadata": {
        "colab_type": "text",
        "id": "iqHlfOFUVQAD"
      },
      "source": [
        "## Configuration"
      ]
    },
    {
      "cell_type": "code",
      "metadata": {
        "colab_type": "code",
        "id": "hFmx_vCrVEX3",
        "colab": {}
      },
      "source": [
        "dataset_filename = \"bill_authentication.csv\""
      ],
      "execution_count": 0,
      "outputs": []
    },
    {
      "cell_type": "markdown",
      "metadata": {
        "colab_type": "text",
        "id": "H89hX3QbQor2"
      },
      "source": [
        "## Grab the data\n",
        "\n",
        "Since our file is in CSV format, we will use panda's read_csv method to read our CSV data file. Execute the following script to do so:"
      ]
    },
    {
      "cell_type": "code",
      "metadata": {
        "colab_type": "code",
        "id": "t85tLpXzQor5",
        "outputId": "8edfedd1-a8a8-49b8-8898-0e002fa48314",
        "colab": {
          "base_uri": "https://localhost:8080/",
          "height": 34
        }
      },
      "source": [
        "import pandas as pd  \n",
        "dataset = pd.read_csv(dataset_filename)\n",
        "dataset.shape"
      ],
      "execution_count": 18,
      "outputs": [
        {
          "output_type": "execute_result",
          "data": {
            "text/plain": [
              "(1372, 5)"
            ]
          },
          "metadata": {
            "tags": []
          },
          "execution_count": 18
        }
      ]
    },
    {
      "cell_type": "code",
      "metadata": {
        "colab_type": "code",
        "id": "A0dBLnZKQosF",
        "outputId": "a6a9f00c-3f96-44d8-8ce7-fbfd71fa2006",
        "colab": {
          "base_uri": "https://localhost:8080/",
          "height": 34
        }
      },
      "source": [
        "# Overview about dataset\n",
        "dataset.keys()"
      ],
      "execution_count": 19,
      "outputs": [
        {
          "output_type": "execute_result",
          "data": {
            "text/plain": [
              "Index(['Variance', 'Skewness', 'Curtosis', 'Entropy', 'Class'], dtype='object')"
            ]
          },
          "metadata": {
            "tags": []
          },
          "execution_count": 19
        }
      ]
    },
    {
      "cell_type": "code",
      "metadata": {
        "colab_type": "code",
        "id": "6S5WHtRnQosJ",
        "outputId": "9ef7460d-019d-4162-9a76-d40113c36dbe",
        "colab": {
          "base_uri": "https://localhost:8080/",
          "height": 204
        }
      },
      "source": [
        "dataset.head()  "
      ],
      "execution_count": 20,
      "outputs": [
        {
          "output_type": "execute_result",
          "data": {
            "text/html": [
              "<div>\n",
              "<style scoped>\n",
              "    .dataframe tbody tr th:only-of-type {\n",
              "        vertical-align: middle;\n",
              "    }\n",
              "\n",
              "    .dataframe tbody tr th {\n",
              "        vertical-align: top;\n",
              "    }\n",
              "\n",
              "    .dataframe thead th {\n",
              "        text-align: right;\n",
              "    }\n",
              "</style>\n",
              "<table border=\"1\" class=\"dataframe\">\n",
              "  <thead>\n",
              "    <tr style=\"text-align: right;\">\n",
              "      <th></th>\n",
              "      <th>Variance</th>\n",
              "      <th>Skewness</th>\n",
              "      <th>Curtosis</th>\n",
              "      <th>Entropy</th>\n",
              "      <th>Class</th>\n",
              "    </tr>\n",
              "  </thead>\n",
              "  <tbody>\n",
              "    <tr>\n",
              "      <th>0</th>\n",
              "      <td>3.62160</td>\n",
              "      <td>8.6661</td>\n",
              "      <td>-2.8073</td>\n",
              "      <td>-0.44699</td>\n",
              "      <td>0</td>\n",
              "    </tr>\n",
              "    <tr>\n",
              "      <th>1</th>\n",
              "      <td>4.54590</td>\n",
              "      <td>8.1674</td>\n",
              "      <td>-2.4586</td>\n",
              "      <td>-1.46210</td>\n",
              "      <td>0</td>\n",
              "    </tr>\n",
              "    <tr>\n",
              "      <th>2</th>\n",
              "      <td>3.86600</td>\n",
              "      <td>-2.6383</td>\n",
              "      <td>1.9242</td>\n",
              "      <td>0.10645</td>\n",
              "      <td>0</td>\n",
              "    </tr>\n",
              "    <tr>\n",
              "      <th>3</th>\n",
              "      <td>3.45660</td>\n",
              "      <td>9.5228</td>\n",
              "      <td>-4.0112</td>\n",
              "      <td>-3.59440</td>\n",
              "      <td>0</td>\n",
              "    </tr>\n",
              "    <tr>\n",
              "      <th>4</th>\n",
              "      <td>0.32924</td>\n",
              "      <td>-4.4552</td>\n",
              "      <td>4.5718</td>\n",
              "      <td>-0.98880</td>\n",
              "      <td>0</td>\n",
              "    </tr>\n",
              "  </tbody>\n",
              "</table>\n",
              "</div>"
            ],
            "text/plain": [
              "   Variance  Skewness  Curtosis  Entropy  Class\n",
              "0   3.62160    8.6661   -2.8073 -0.44699      0\n",
              "1   4.54590    8.1674   -2.4586 -1.46210      0\n",
              "2   3.86600   -2.6383    1.9242  0.10645      0\n",
              "3   3.45660    9.5228   -4.0112 -3.59440      0\n",
              "4   0.32924   -4.4552    4.5718 -0.98880      0"
            ]
          },
          "metadata": {
            "tags": []
          },
          "execution_count": 20
        }
      ]
    },
    {
      "cell_type": "markdown",
      "metadata": {
        "colab_type": "text",
        "id": "NTob9ldXZST2"
      },
      "source": [
        "## Prepare train data and test set"
      ]
    },
    {
      "cell_type": "markdown",
      "metadata": {
        "colab_type": "text",
        "id": "_SHtTv-AQosM"
      },
      "source": [
        "The label is describe in **Class** column. So that we devide the dataset into attributes and labels"
      ]
    },
    {
      "cell_type": "code",
      "metadata": {
        "colab_type": "code",
        "id": "IWlX_Ip1QosN",
        "colab": {}
      },
      "source": [
        "X = dataset.drop('Class', axis=1)  \n",
        "y = dataset['Class']  "
      ],
      "execution_count": 0,
      "outputs": []
    },
    {
      "cell_type": "markdown",
      "metadata": {
        "colab_type": "text",
        "id": "gg1L0AW-2ScC"
      },
      "source": [
        "Here the X variable contains all the columns from the dataset, except the **Class** column, which is the label.\n",
        "\n",
        "The y variable contains the values from the **Class** column. \n",
        "\n",
        "The X variable is our attribute set and y variable contains corresponding labels."
      ]
    },
    {
      "cell_type": "markdown",
      "metadata": {
        "colab_type": "text",
        "id": "7mAg-sUBQosS"
      },
      "source": [
        "### Dividing our data into training and test sets. "
      ]
    },
    {
      "cell_type": "markdown",
      "metadata": {
        "colab_type": "text",
        "id": "0Fp9RNwf2oon"
      },
      "source": [
        "So, we split the test into 2 sets: training set and testing set. We use to split up 20% of the data in to the test set and 80% for training."
      ]
    },
    {
      "cell_type": "code",
      "metadata": {
        "colab_type": "code",
        "id": "8fXzzhfHQosT",
        "outputId": "44bf65a5-2dfe-4fbb-abc1-4517719ff6cd",
        "colab": {
          "base_uri": "https://localhost:8080/",
          "height": 51
        }
      },
      "source": [
        "from sklearn.model_selection import train_test_split  \n",
        "X_train, X_test, y_train, y_test = train_test_split(X, y, test_size=0.20)\n",
        "print(X_train.shape, y_train.size)\n",
        "print(X_test.shape, y_test.shape)"
      ],
      "execution_count": 22,
      "outputs": [
        {
          "output_type": "stream",
          "text": [
            "(1097, 4) 1097\n",
            "(275, 4) (275,)\n"
          ],
          "name": "stdout"
        }
      ]
    },
    {
      "cell_type": "markdown",
      "metadata": {
        "colab_type": "text",
        "id": "RvkIhGKzQosZ"
      },
      "source": [
        "## Training with Decision Tree"
      ]
    },
    {
      "cell_type": "markdown",
      "metadata": {
        "colab_type": "text",
        "id": "Whzch7nq5Fdc"
      },
      "source": [
        "Now, let's build a **Decision Tree** model"
      ]
    },
    {
      "cell_type": "markdown",
      "metadata": {
        "id": "oEYNLBzSQOFH",
        "colab_type": "text"
      },
      "source": [
        "### a) criterion='gini'"
      ]
    },
    {
      "cell_type": "code",
      "metadata": {
        "colab_type": "code",
        "id": "A5VjKMNFQosZ",
        "outputId": "c8643fd4-332d-4eb2-f37f-5615c68c9175",
        "colab": {
          "base_uri": "https://localhost:8080/",
          "height": 119
        }
      },
      "source": [
        "from sklearn.tree import DecisionTreeClassifier  \n",
        "dt = DecisionTreeClassifier(criterion='gini')  \n",
        "dt.fit(X_train, y_train)  "
      ],
      "execution_count": 23,
      "outputs": [
        {
          "output_type": "execute_result",
          "data": {
            "text/plain": [
              "DecisionTreeClassifier(ccp_alpha=0.0, class_weight=None, criterion='gini',\n",
              "                       max_depth=None, max_features=None, max_leaf_nodes=None,\n",
              "                       min_impurity_decrease=0.0, min_impurity_split=None,\n",
              "                       min_samples_leaf=1, min_samples_split=2,\n",
              "                       min_weight_fraction_leaf=0.0, presort='deprecated',\n",
              "                       random_state=None, splitter='best')"
            ]
          },
          "metadata": {
            "tags": []
          },
          "execution_count": 23
        }
      ]
    },
    {
      "cell_type": "code",
      "metadata": {
        "colab_type": "code",
        "id": "577pssBYQose",
        "outputId": "649cf72f-7dc8-4b3d-af6d-32ccc72d0d0e",
        "colab": {
          "base_uri": "https://localhost:8080/",
          "height": 238
        }
      },
      "source": [
        "y_pred_dt = dt.predict(X_test)  \n",
        "y_pred_dt"
      ],
      "execution_count": 24,
      "outputs": [
        {
          "output_type": "execute_result",
          "data": {
            "text/plain": [
              "array([0, 0, 1, 1, 1, 1, 0, 0, 1, 1, 0, 0, 1, 0, 1, 0, 1, 1, 0, 0, 1, 1,\n",
              "       1, 1, 0, 1, 0, 0, 0, 0, 1, 1, 1, 1, 1, 0, 1, 0, 0, 0, 1, 0, 1, 1,\n",
              "       0, 0, 0, 0, 0, 0, 0, 0, 0, 0, 1, 0, 1, 0, 1, 0, 0, 0, 1, 0, 0, 1,\n",
              "       0, 0, 0, 0, 0, 0, 0, 1, 0, 0, 0, 1, 1, 1, 0, 1, 0, 1, 0, 0, 1, 1,\n",
              "       1, 0, 1, 1, 0, 0, 1, 0, 1, 0, 0, 1, 0, 0, 0, 1, 1, 1, 1, 1, 1, 0,\n",
              "       1, 1, 1, 0, 0, 0, 1, 0, 1, 0, 1, 0, 0, 1, 0, 0, 0, 0, 0, 1, 1, 0,\n",
              "       0, 0, 0, 0, 0, 0, 1, 0, 1, 1, 0, 0, 0, 0, 0, 0, 1, 0, 0, 0, 1, 1,\n",
              "       0, 1, 1, 1, 1, 1, 0, 1, 0, 0, 0, 1, 0, 1, 1, 0, 0, 1, 0, 0, 1, 0,\n",
              "       0, 1, 1, 1, 0, 0, 1, 0, 0, 1, 0, 1, 0, 0, 0, 0, 0, 0, 0, 0, 0, 0,\n",
              "       1, 0, 0, 0, 0, 0, 1, 1, 0, 0, 0, 1, 0, 0, 0, 0, 0, 0, 1, 0, 1, 1,\n",
              "       1, 1, 1, 0, 0, 0, 1, 0, 1, 1, 0, 0, 0, 1, 0, 1, 1, 1, 0, 0, 1, 1,\n",
              "       1, 0, 1, 1, 0, 1, 0, 0, 1, 1, 1, 0, 0, 0, 0, 0, 1, 1, 0, 0, 0, 0,\n",
              "       1, 0, 0, 0, 0, 0, 1, 0, 0, 0, 0])"
            ]
          },
          "metadata": {
            "tags": []
          },
          "execution_count": 24
        }
      ]
    },
    {
      "cell_type": "markdown",
      "metadata": {
        "colab_type": "text",
        "id": "UusvjyEMQosl"
      },
      "source": [
        "##### Evaluating the Algorithm\n",
        "\n"
      ]
    },
    {
      "cell_type": "code",
      "metadata": {
        "colab_type": "code",
        "id": "ZrVWAiUDQosm",
        "outputId": "9c92f664-fb52-443f-94cf-bb030b478d2d",
        "colab": {
          "base_uri": "https://localhost:8080/",
          "height": 34
        }
      },
      "source": [
        "dt_score = dt.score(X_test, y_test)\n",
        "print(f\"Decision Tree classifier accuracy score is {dt_score}\")"
      ],
      "execution_count": 25,
      "outputs": [
        {
          "output_type": "stream",
          "text": [
            "Decision Tree classifier accuracy score is 0.9745454545454545\n"
          ],
          "name": "stdout"
        }
      ]
    },
    {
      "cell_type": "markdown",
      "metadata": {
        "id": "1osASWe_QOFR",
        "colab_type": "text"
      },
      "source": [
        "### b) criterion='entropy'"
      ]
    },
    {
      "cell_type": "code",
      "metadata": {
        "id": "EzJ36siaQOFR",
        "colab_type": "code",
        "colab": {
          "base_uri": "https://localhost:8080/",
          "height": 119
        },
        "outputId": "d16f678c-7328-4532-f4d8-348952ce386b"
      },
      "source": [
        "from sklearn.tree import DecisionTreeClassifier  \n",
        "dt2 = DecisionTreeClassifier(criterion='entropy')  \n",
        "dt2.fit(X_train, y_train)  "
      ],
      "execution_count": 26,
      "outputs": [
        {
          "output_type": "execute_result",
          "data": {
            "text/plain": [
              "DecisionTreeClassifier(ccp_alpha=0.0, class_weight=None, criterion='entropy',\n",
              "                       max_depth=None, max_features=None, max_leaf_nodes=None,\n",
              "                       min_impurity_decrease=0.0, min_impurity_split=None,\n",
              "                       min_samples_leaf=1, min_samples_split=2,\n",
              "                       min_weight_fraction_leaf=0.0, presort='deprecated',\n",
              "                       random_state=None, splitter='best')"
            ]
          },
          "metadata": {
            "tags": []
          },
          "execution_count": 26
        }
      ]
    },
    {
      "cell_type": "code",
      "metadata": {
        "scrolled": false,
        "id": "JzKhqfZTQOFU",
        "colab_type": "code",
        "colab": {
          "base_uri": "https://localhost:8080/",
          "height": 238
        },
        "outputId": "cfbfdb2a-0f57-4e1a-e9d6-dc7e564369d6"
      },
      "source": [
        "y_pred_dt = dt2.predict(X_test)  \n",
        "y_pred_dt"
      ],
      "execution_count": 27,
      "outputs": [
        {
          "output_type": "execute_result",
          "data": {
            "text/plain": [
              "array([0, 0, 1, 1, 1, 1, 0, 0, 1, 1, 0, 0, 1, 0, 1, 0, 1, 1, 0, 0, 1, 1,\n",
              "       1, 1, 0, 1, 0, 0, 0, 0, 1, 1, 1, 1, 1, 0, 0, 0, 1, 0, 1, 0, 1, 1,\n",
              "       0, 0, 0, 0, 0, 0, 0, 0, 0, 0, 1, 0, 1, 0, 1, 0, 0, 0, 1, 0, 0, 1,\n",
              "       0, 0, 1, 0, 0, 0, 0, 1, 0, 0, 0, 1, 1, 1, 0, 1, 0, 1, 0, 0, 1, 1,\n",
              "       1, 0, 1, 1, 0, 0, 1, 0, 1, 0, 0, 1, 0, 0, 0, 1, 1, 1, 1, 1, 1, 0,\n",
              "       1, 1, 1, 0, 0, 0, 1, 0, 1, 0, 1, 0, 0, 1, 0, 0, 0, 0, 0, 1, 1, 0,\n",
              "       0, 0, 0, 0, 0, 0, 1, 0, 1, 1, 1, 0, 0, 0, 0, 0, 1, 0, 0, 0, 1, 1,\n",
              "       0, 1, 1, 1, 1, 1, 0, 1, 0, 0, 0, 1, 0, 1, 1, 0, 0, 1, 0, 0, 1, 0,\n",
              "       0, 1, 1, 1, 0, 0, 0, 0, 0, 1, 0, 1, 0, 0, 0, 0, 0, 0, 0, 0, 0, 0,\n",
              "       1, 0, 0, 0, 0, 0, 1, 1, 0, 0, 0, 1, 0, 0, 0, 0, 0, 0, 1, 0, 1, 1,\n",
              "       1, 0, 1, 0, 0, 0, 1, 0, 1, 1, 0, 0, 0, 1, 0, 1, 1, 1, 0, 0, 1, 1,\n",
              "       1, 0, 1, 1, 0, 1, 0, 0, 1, 1, 1, 0, 0, 0, 0, 0, 1, 1, 0, 0, 0, 0,\n",
              "       1, 0, 0, 0, 0, 0, 1, 1, 0, 0, 0])"
            ]
          },
          "metadata": {
            "tags": []
          },
          "execution_count": 27
        }
      ]
    },
    {
      "cell_type": "markdown",
      "metadata": {
        "colab_type": "text",
        "id": "SHqAY2ZYQOFW"
      },
      "source": [
        "##### Evaluating the Algorithm\n",
        "\n"
      ]
    },
    {
      "cell_type": "code",
      "metadata": {
        "colab_type": "code",
        "outputId": "18c931e3-78fb-4b4d-b86d-71f127e5f72d",
        "id": "IN3z_zLMQOFW",
        "colab": {
          "base_uri": "https://localhost:8080/",
          "height": 34
        }
      },
      "source": [
        "dt_score = dt.score(X_test, y_test)\n",
        "print(f\"Decision Tree classifier accuracy score is {dt_score}\")"
      ],
      "execution_count": 28,
      "outputs": [
        {
          "output_type": "stream",
          "text": [
            "Decision Tree classifier accuracy score is 0.9745454545454545\n"
          ],
          "name": "stdout"
        }
      ]
    },
    {
      "cell_type": "markdown",
      "metadata": {
        "colab_type": "text",
        "id": "pSKS600B8a7r"
      },
      "source": [
        "## Extra section"
      ]
    },
    {
      "cell_type": "markdown",
      "metadata": {
        "colab_type": "text",
        "id": "VOR4z1m7Qoss"
      },
      "source": [
        "### Visualize decision tree"
      ]
    },
    {
      "cell_type": "markdown",
      "metadata": {
        "colab_type": "text",
        "id": "flCqCeIl8xm9"
      },
      "source": [
        "We can visualize the Decision Tree model using the [Graphviz](https://www.graphviz.org/) tool.\n",
        "\n",
        "Graphviz is an easy tool for drawing graph. For example: the code\n",
        "\n",
        "```\n",
        "digraph G {Hello->World}\n",
        "```\n",
        "\n",
        "will generate the following graph\n",
        "\n",
        "![digraph](https://graphviz.gitlab.io/_pages/Gallery/directed/hello.png)\n",
        "\n",
        "* More example https://www.graphviz.org/gallery/\n",
        "* You can play around at http://www.webgraphviz.com/ or https://dreampuf.github.io/GraphvizOnline/"
      ]
    },
    {
      "cell_type": "markdown",
      "metadata": {
        "colab_type": "text",
        "id": "mIG3R9Lk_5NS"
      },
      "source": [
        "So let's generate the graph."
      ]
    },
    {
      "cell_type": "code",
      "metadata": {
        "colab_type": "code",
        "id": "YIZ49PfhQosu",
        "outputId": "7f176bba-2c60-40b1-a21d-52b751c7bcaa",
        "colab": {
          "base_uri": "https://localhost:8080/",
          "height": 1000
        }
      },
      "source": [
        "from sklearn.tree import export_graphviz\n",
        "dot_data = export_graphviz(dt, out_file=None)\n",
        "print(dot_data)"
      ],
      "execution_count": 29,
      "outputs": [
        {
          "output_type": "stream",
          "text": [
            "digraph Tree {\n",
            "node [shape=box] ;\n",
            "0 [label=\"X[0] <= 0.297\\ngini = 0.495\\nsamples = 1097\\nvalue = [601, 496]\"] ;\n",
            "1 [label=\"X[1] <= 7.565\\ngini = 0.3\\nsamples = 538\\nvalue = [99, 439]\"] ;\n",
            "0 -> 1 [labeldistance=2.5, labelangle=45, headlabel=\"True\"] ;\n",
            "2 [label=\"X[0] <= -0.463\\ngini = 0.134\\nsamples = 457\\nvalue = [33, 424]\"] ;\n",
            "1 -> 2 ;\n",
            "3 [label=\"X[2] <= 6.219\\ngini = 0.065\\nsamples = 388\\nvalue = [13, 375]\"] ;\n",
            "2 -> 3 ;\n",
            "4 [label=\"gini = 0.0\\nsamples = 267\\nvalue = [0, 267]\"] ;\n",
            "3 -> 4 ;\n",
            "5 [label=\"X[1] <= -4.675\\ngini = 0.192\\nsamples = 121\\nvalue = [13, 108]\"] ;\n",
            "3 -> 5 ;\n",
            "6 [label=\"gini = 0.0\\nsamples = 107\\nvalue = [0, 107]\"] ;\n",
            "5 -> 6 ;\n",
            "7 [label=\"X[2] <= 6.615\\ngini = 0.133\\nsamples = 14\\nvalue = [13, 1]\"] ;\n",
            "5 -> 7 ;\n",
            "8 [label=\"X[2] <= 6.337\\ngini = 0.5\\nsamples = 2\\nvalue = [1, 1]\"] ;\n",
            "7 -> 8 ;\n",
            "9 [label=\"gini = 0.0\\nsamples = 1\\nvalue = [1, 0]\"] ;\n",
            "8 -> 9 ;\n",
            "10 [label=\"gini = 0.0\\nsamples = 1\\nvalue = [0, 1]\"] ;\n",
            "8 -> 10 ;\n",
            "11 [label=\"gini = 0.0\\nsamples = 12\\nvalue = [12, 0]\"] ;\n",
            "7 -> 11 ;\n",
            "12 [label=\"X[2] <= 0.899\\ngini = 0.412\\nsamples = 69\\nvalue = [20, 49]\"] ;\n",
            "2 -> 12 ;\n",
            "13 [label=\"X[1] <= 5.643\\ngini = 0.085\\nsamples = 45\\nvalue = [2, 43]\"] ;\n",
            "12 -> 13 ;\n",
            "14 [label=\"gini = 0.0\\nsamples = 43\\nvalue = [0, 43]\"] ;\n",
            "13 -> 14 ;\n",
            "15 [label=\"gini = 0.0\\nsamples = 2\\nvalue = [2, 0]\"] ;\n",
            "13 -> 15 ;\n",
            "16 [label=\"X[3] <= 0.913\\ngini = 0.375\\nsamples = 24\\nvalue = [18, 6]\"] ;\n",
            "12 -> 16 ;\n",
            "17 [label=\"X[2] <= 1.037\\ngini = 0.1\\nsamples = 19\\nvalue = [18, 1]\"] ;\n",
            "16 -> 17 ;\n",
            "18 [label=\"X[2] <= 0.962\\ngini = 0.5\\nsamples = 2\\nvalue = [1, 1]\"] ;\n",
            "17 -> 18 ;\n",
            "19 [label=\"gini = 0.0\\nsamples = 1\\nvalue = [1, 0]\"] ;\n",
            "18 -> 19 ;\n",
            "20 [label=\"gini = 0.0\\nsamples = 1\\nvalue = [0, 1]\"] ;\n",
            "18 -> 20 ;\n",
            "21 [label=\"gini = 0.0\\nsamples = 17\\nvalue = [17, 0]\"] ;\n",
            "17 -> 21 ;\n",
            "22 [label=\"gini = 0.0\\nsamples = 5\\nvalue = [0, 5]\"] ;\n",
            "16 -> 22 ;\n",
            "23 [label=\"X[0] <= -4.726\\ngini = 0.302\\nsamples = 81\\nvalue = [66, 15]\"] ;\n",
            "1 -> 23 ;\n",
            "24 [label=\"gini = 0.0\\nsamples = 15\\nvalue = [0, 15]\"] ;\n",
            "23 -> 24 ;\n",
            "25 [label=\"gini = 0.0\\nsamples = 66\\nvalue = [66, 0]\"] ;\n",
            "23 -> 25 ;\n",
            "26 [label=\"X[2] <= -4.394\\ngini = 0.183\\nsamples = 559\\nvalue = [502, 57]\"] ;\n",
            "0 -> 26 [labeldistance=2.5, labelangle=-45, headlabel=\"False\"] ;\n",
            "27 [label=\"X[1] <= 7.331\\ngini = 0.36\\nsamples = 34\\nvalue = [8, 26]\"] ;\n",
            "26 -> 27 ;\n",
            "28 [label=\"gini = 0.0\\nsamples = 26\\nvalue = [0, 26]\"] ;\n",
            "27 -> 28 ;\n",
            "29 [label=\"gini = 0.0\\nsamples = 8\\nvalue = [8, 0]\"] ;\n",
            "27 -> 29 ;\n",
            "30 [label=\"X[0] <= 1.592\\ngini = 0.111\\nsamples = 525\\nvalue = [494, 31]\"] ;\n",
            "26 -> 30 ;\n",
            "31 [label=\"X[2] <= -2.272\\ngini = 0.328\\nsamples = 140\\nvalue = [111, 29]\"] ;\n",
            "30 -> 31 ;\n",
            "32 [label=\"X[1] <= 5.736\\ngini = 0.1\\nsamples = 19\\nvalue = [1, 18]\"] ;\n",
            "31 -> 32 ;\n",
            "33 [label=\"gini = 0.0\\nsamples = 18\\nvalue = [0, 18]\"] ;\n",
            "32 -> 33 ;\n",
            "34 [label=\"gini = 0.0\\nsamples = 1\\nvalue = [1, 0]\"] ;\n",
            "32 -> 34 ;\n",
            "35 [label=\"X[3] <= 0.082\\ngini = 0.165\\nsamples = 121\\nvalue = [110, 11]\"] ;\n",
            "31 -> 35 ;\n",
            "36 [label=\"X[2] <= -1.434\\ngini = 0.021\\nsamples = 93\\nvalue = [92, 1]\"] ;\n",
            "35 -> 36 ;\n",
            "37 [label=\"X[0] <= 0.477\\ngini = 0.117\\nsamples = 16\\nvalue = [15, 1]\"] ;\n",
            "36 -> 37 ;\n",
            "38 [label=\"gini = 0.0\\nsamples = 1\\nvalue = [0, 1]\"] ;\n",
            "37 -> 38 ;\n",
            "39 [label=\"gini = 0.0\\nsamples = 15\\nvalue = [15, 0]\"] ;\n",
            "37 -> 39 ;\n",
            "40 [label=\"gini = 0.0\\nsamples = 77\\nvalue = [77, 0]\"] ;\n",
            "36 -> 40 ;\n",
            "41 [label=\"X[2] <= 1.393\\ngini = 0.459\\nsamples = 28\\nvalue = [18, 10]\"] ;\n",
            "35 -> 41 ;\n",
            "42 [label=\"X[1] <= 3.559\\ngini = 0.165\\nsamples = 11\\nvalue = [1, 10]\"] ;\n",
            "41 -> 42 ;\n",
            "43 [label=\"gini = 0.0\\nsamples = 10\\nvalue = [0, 10]\"] ;\n",
            "42 -> 43 ;\n",
            "44 [label=\"gini = 0.0\\nsamples = 1\\nvalue = [1, 0]\"] ;\n",
            "42 -> 44 ;\n",
            "45 [label=\"gini = 0.0\\nsamples = 17\\nvalue = [17, 0]\"] ;\n",
            "41 -> 45 ;\n",
            "46 [label=\"X[0] <= 2.037\\ngini = 0.01\\nsamples = 385\\nvalue = [383, 2]\"] ;\n",
            "30 -> 46 ;\n",
            "47 [label=\"X[0] <= 2.017\\ngini = 0.089\\nsamples = 43\\nvalue = [41, 2]\"] ;\n",
            "46 -> 47 ;\n",
            "48 [label=\"gini = 0.0\\nsamples = 41\\nvalue = [41, 0]\"] ;\n",
            "47 -> 48 ;\n",
            "49 [label=\"gini = 0.0\\nsamples = 2\\nvalue = [0, 2]\"] ;\n",
            "47 -> 49 ;\n",
            "50 [label=\"gini = 0.0\\nsamples = 342\\nvalue = [342, 0]\"] ;\n",
            "46 -> 50 ;\n",
            "}\n"
          ],
          "name": "stdout"
        }
      ]
    },
    {
      "cell_type": "markdown",
      "metadata": {
        "colab_type": "text",
        "id": "0X6_ggMHFJ0Z"
      },
      "source": [
        "Copy the code above, paste it to online graphviz service like http://viz-js.com/ and see the result."
      ]
    },
    {
      "cell_type": "markdown",
      "metadata": {
        "colab_type": "text",
        "id": "NnUDorsr8wjv"
      },
      "source": [
        "### Jypiter does it all"
      ]
    },
    {
      "cell_type": "markdown",
      "metadata": {
        "colab_type": "text",
        "id": "tZsrkGvwBBta"
      },
      "source": [
        "If we want to display the graph automatically inside Jupiter, we'll need\n",
        "* Install Graphviz binary\n",
        "* Call the Graphviz inside Jupiter and grab the result.\n",
        "\n",
        "**Note**: Google Colab does not let us install Graphviz binary, so that we cant make with work with Google Colab.\n"
      ]
    },
    {
      "cell_type": "code",
      "metadata": {
        "colab_type": "code",
        "id": "1eRgxNHtQosy",
        "colab": {
          "base_uri": "https://localhost:8080/",
          "height": 1000
        },
        "outputId": "dff1dd02-51ee-4872-a49d-7ba487499b8a"
      },
      "source": [
        "import graphviz \n",
        "graph = graphviz.Source(dot_data)\n",
        "graph"
      ],
      "execution_count": 30,
      "outputs": [
        {
          "output_type": "execute_result",
          "data": {
            "text/plain": [
              "<graphviz.files.Source at 0x7f7ba6da4c50>"
            ],
            "image/svg+xml": "<?xml version=\"1.0\" encoding=\"UTF-8\" standalone=\"no\"?>\n<!DOCTYPE svg PUBLIC \"-//W3C//DTD SVG 1.1//EN\"\n \"http://www.w3.org/Graphics/SVG/1.1/DTD/svg11.dtd\">\n<!-- Generated by graphviz version 2.40.1 (20161225.0304)\n -->\n<!-- Title: Tree Pages: 1 -->\n<svg width=\"1451pt\" height=\"789pt\"\n viewBox=\"0.00 0.00 1451.00 789.00\" xmlns=\"http://www.w3.org/2000/svg\" xmlns:xlink=\"http://www.w3.org/1999/xlink\">\n<g id=\"graph0\" class=\"graph\" transform=\"scale(1 1) rotate(0) translate(4 785)\">\n<title>Tree</title>\n<polygon fill=\"#ffffff\" stroke=\"transparent\" points=\"-4,4 -4,-785 1447,-785 1447,4 -4,4\"/>\n<!-- 0 -->\n<g id=\"node1\" class=\"node\">\n<title>0</title>\n<polygon fill=\"none\" stroke=\"#000000\" points=\"777.5,-781 652.5,-781 652.5,-713 777.5,-713 777.5,-781\"/>\n<text text-anchor=\"middle\" x=\"715\" y=\"-765.8\" font-family=\"Times,serif\" font-size=\"14.00\" fill=\"#000000\">X[0] &lt;= 0.297</text>\n<text text-anchor=\"middle\" x=\"715\" y=\"-750.8\" font-family=\"Times,serif\" font-size=\"14.00\" fill=\"#000000\">gini = 0.495</text>\n<text text-anchor=\"middle\" x=\"715\" y=\"-735.8\" font-family=\"Times,serif\" font-size=\"14.00\" fill=\"#000000\">samples = 1097</text>\n<text text-anchor=\"middle\" x=\"715\" y=\"-720.8\" font-family=\"Times,serif\" font-size=\"14.00\" fill=\"#000000\">value = [601, 496]</text>\n</g>\n<!-- 1 -->\n<g id=\"node2\" class=\"node\">\n<title>1</title>\n<polygon fill=\"none\" stroke=\"#000000\" points=\"657.5,-677 540.5,-677 540.5,-609 657.5,-609 657.5,-677\"/>\n<text text-anchor=\"middle\" x=\"599\" y=\"-661.8\" font-family=\"Times,serif\" font-size=\"14.00\" fill=\"#000000\">X[1] &lt;= 7.565</text>\n<text text-anchor=\"middle\" x=\"599\" y=\"-646.8\" font-family=\"Times,serif\" font-size=\"14.00\" fill=\"#000000\">gini = 0.3</text>\n<text text-anchor=\"middle\" x=\"599\" y=\"-631.8\" font-family=\"Times,serif\" font-size=\"14.00\" fill=\"#000000\">samples = 538</text>\n<text text-anchor=\"middle\" x=\"599\" y=\"-616.8\" font-family=\"Times,serif\" font-size=\"14.00\" fill=\"#000000\">value = [99, 439]</text>\n</g>\n<!-- 0&#45;&gt;1 -->\n<g id=\"edge1\" class=\"edge\">\n<title>0&#45;&gt;1</title>\n<path fill=\"none\" stroke=\"#000000\" d=\"M677.0173,-712.9465C666.7023,-703.6986 655.4246,-693.5876 644.7301,-683.9994\"/>\n<polygon fill=\"#000000\" stroke=\"#000000\" points=\"646.8502,-681.1995 637.0681,-677.13 642.1774,-686.4115 646.8502,-681.1995\"/>\n<text text-anchor=\"middle\" x=\"638.4297\" y=\"-698.3929\" font-family=\"Times,serif\" font-size=\"14.00\" fill=\"#000000\">True</text>\n</g>\n<!-- 26 -->\n<g id=\"node27\" class=\"node\">\n<title>26</title>\n<polygon fill=\"none\" stroke=\"#000000\" points=\"897.5,-677 780.5,-677 780.5,-609 897.5,-609 897.5,-677\"/>\n<text text-anchor=\"middle\" x=\"839\" y=\"-661.8\" font-family=\"Times,serif\" font-size=\"14.00\" fill=\"#000000\">X[2] &lt;= &#45;4.394</text>\n<text text-anchor=\"middle\" x=\"839\" y=\"-646.8\" font-family=\"Times,serif\" font-size=\"14.00\" fill=\"#000000\">gini = 0.183</text>\n<text text-anchor=\"middle\" x=\"839\" y=\"-631.8\" font-family=\"Times,serif\" font-size=\"14.00\" fill=\"#000000\">samples = 559</text>\n<text text-anchor=\"middle\" x=\"839\" y=\"-616.8\" font-family=\"Times,serif\" font-size=\"14.00\" fill=\"#000000\">value = [502, 57]</text>\n</g>\n<!-- 0&#45;&gt;26 -->\n<g id=\"edge26\" class=\"edge\">\n<title>0&#45;&gt;26</title>\n<path fill=\"none\" stroke=\"#000000\" d=\"M755.6022,-712.9465C766.7356,-703.6088 778.9183,-693.3911 790.4489,-683.7203\"/>\n<polygon fill=\"#000000\" stroke=\"#000000\" points=\"792.8938,-686.2378 798.3065,-677.13 788.3954,-680.8745 792.8938,-686.2378\"/>\n<text text-anchor=\"middle\" x=\"796.1219\" y=\"-698.3344\" font-family=\"Times,serif\" font-size=\"14.00\" fill=\"#000000\">False</text>\n</g>\n<!-- 2 -->\n<g id=\"node3\" class=\"node\">\n<title>2</title>\n<polygon fill=\"none\" stroke=\"#000000\" points=\"477.5,-573 360.5,-573 360.5,-505 477.5,-505 477.5,-573\"/>\n<text text-anchor=\"middle\" x=\"419\" y=\"-557.8\" font-family=\"Times,serif\" font-size=\"14.00\" fill=\"#000000\">X[0] &lt;= &#45;0.463</text>\n<text text-anchor=\"middle\" x=\"419\" y=\"-542.8\" font-family=\"Times,serif\" font-size=\"14.00\" fill=\"#000000\">gini = 0.134</text>\n<text text-anchor=\"middle\" x=\"419\" y=\"-527.8\" font-family=\"Times,serif\" font-size=\"14.00\" fill=\"#000000\">samples = 457</text>\n<text text-anchor=\"middle\" x=\"419\" y=\"-512.8\" font-family=\"Times,serif\" font-size=\"14.00\" fill=\"#000000\">value = [33, 424]</text>\n</g>\n<!-- 1&#45;&gt;2 -->\n<g id=\"edge2\" class=\"edge\">\n<title>1&#45;&gt;2</title>\n<path fill=\"none\" stroke=\"#000000\" d=\"M540.0613,-608.9465C523.0356,-599.1095 504.3196,-588.2958 486.8005,-578.1736\"/>\n<polygon fill=\"#000000\" stroke=\"#000000\" points=\"488.1732,-574.9246 477.7636,-572.9523 484.6713,-580.9856 488.1732,-574.9246\"/>\n</g>\n<!-- 23 -->\n<g id=\"node24\" class=\"node\">\n<title>23</title>\n<polygon fill=\"none\" stroke=\"#000000\" points=\"654,-573 544,-573 544,-505 654,-505 654,-573\"/>\n<text text-anchor=\"middle\" x=\"599\" y=\"-557.8\" font-family=\"Times,serif\" font-size=\"14.00\" fill=\"#000000\">X[0] &lt;= &#45;4.726</text>\n<text text-anchor=\"middle\" x=\"599\" y=\"-542.8\" font-family=\"Times,serif\" font-size=\"14.00\" fill=\"#000000\">gini = 0.302</text>\n<text text-anchor=\"middle\" x=\"599\" y=\"-527.8\" font-family=\"Times,serif\" font-size=\"14.00\" fill=\"#000000\">samples = 81</text>\n<text text-anchor=\"middle\" x=\"599\" y=\"-512.8\" font-family=\"Times,serif\" font-size=\"14.00\" fill=\"#000000\">value = [66, 15]</text>\n</g>\n<!-- 1&#45;&gt;23 -->\n<g id=\"edge23\" class=\"edge\">\n<title>1&#45;&gt;23</title>\n<path fill=\"none\" stroke=\"#000000\" d=\"M599,-608.9465C599,-600.776 599,-591.9318 599,-583.3697\"/>\n<polygon fill=\"#000000\" stroke=\"#000000\" points=\"602.5001,-583.13 599,-573.13 595.5001,-583.13 602.5001,-583.13\"/>\n</g>\n<!-- 3 -->\n<g id=\"node4\" class=\"node\">\n<title>3</title>\n<polygon fill=\"none\" stroke=\"#000000\" points=\"245.5,-469 128.5,-469 128.5,-401 245.5,-401 245.5,-469\"/>\n<text text-anchor=\"middle\" x=\"187\" y=\"-453.8\" font-family=\"Times,serif\" font-size=\"14.00\" fill=\"#000000\">X[2] &lt;= 6.219</text>\n<text text-anchor=\"middle\" x=\"187\" y=\"-438.8\" font-family=\"Times,serif\" font-size=\"14.00\" fill=\"#000000\">gini = 0.065</text>\n<text text-anchor=\"middle\" x=\"187\" y=\"-423.8\" font-family=\"Times,serif\" font-size=\"14.00\" fill=\"#000000\">samples = 388</text>\n<text text-anchor=\"middle\" x=\"187\" y=\"-408.8\" font-family=\"Times,serif\" font-size=\"14.00\" fill=\"#000000\">value = [13, 375]</text>\n</g>\n<!-- 2&#45;&gt;3 -->\n<g id=\"edge3\" class=\"edge\">\n<title>2&#45;&gt;3</title>\n<path fill=\"none\" stroke=\"#000000\" d=\"M360.4566,-512.7564C328.3095,-498.3457 288.2862,-480.4041 254.7879,-465.3877\"/>\n<polygon fill=\"#000000\" stroke=\"#000000\" points=\"256.0815,-462.132 245.5247,-461.2352 253.2181,-468.5196 256.0815,-462.132\"/>\n</g>\n<!-- 12 -->\n<g id=\"node13\" class=\"node\">\n<title>12</title>\n<polygon fill=\"none\" stroke=\"#000000\" points=\"474,-469 364,-469 364,-401 474,-401 474,-469\"/>\n<text text-anchor=\"middle\" x=\"419\" y=\"-453.8\" font-family=\"Times,serif\" font-size=\"14.00\" fill=\"#000000\">X[2] &lt;= 0.899</text>\n<text text-anchor=\"middle\" x=\"419\" y=\"-438.8\" font-family=\"Times,serif\" font-size=\"14.00\" fill=\"#000000\">gini = 0.412</text>\n<text text-anchor=\"middle\" x=\"419\" y=\"-423.8\" font-family=\"Times,serif\" font-size=\"14.00\" fill=\"#000000\">samples = 69</text>\n<text text-anchor=\"middle\" x=\"419\" y=\"-408.8\" font-family=\"Times,serif\" font-size=\"14.00\" fill=\"#000000\">value = [20, 49]</text>\n</g>\n<!-- 2&#45;&gt;12 -->\n<g id=\"edge12\" class=\"edge\">\n<title>2&#45;&gt;12</title>\n<path fill=\"none\" stroke=\"#000000\" d=\"M419,-504.9465C419,-496.776 419,-487.9318 419,-479.3697\"/>\n<polygon fill=\"#000000\" stroke=\"#000000\" points=\"422.5001,-479.13 419,-469.13 415.5001,-479.13 422.5001,-479.13\"/>\n</g>\n<!-- 4 -->\n<g id=\"node5\" class=\"node\">\n<title>4</title>\n<polygon fill=\"none\" stroke=\"#000000\" points=\"110,-357.5 0,-357.5 0,-304.5 110,-304.5 110,-357.5\"/>\n<text text-anchor=\"middle\" x=\"55\" y=\"-342.3\" font-family=\"Times,serif\" font-size=\"14.00\" fill=\"#000000\">gini = 0.0</text>\n<text text-anchor=\"middle\" x=\"55\" y=\"-327.3\" font-family=\"Times,serif\" font-size=\"14.00\" fill=\"#000000\">samples = 267</text>\n<text text-anchor=\"middle\" x=\"55\" y=\"-312.3\" font-family=\"Times,serif\" font-size=\"14.00\" fill=\"#000000\">value = [0, 267]</text>\n</g>\n<!-- 3&#45;&gt;4 -->\n<g id=\"edge4\" class=\"edge\">\n<title>3&#45;&gt;4</title>\n<path fill=\"none\" stroke=\"#000000\" d=\"M143.7783,-400.9465C128.6794,-389.0504 111.7676,-375.726 96.7878,-363.9237\"/>\n<polygon fill=\"#000000\" stroke=\"#000000\" points=\"98.7091,-360.9817 88.6881,-357.5422 94.377,-366.4802 98.7091,-360.9817\"/>\n</g>\n<!-- 5 -->\n<g id=\"node6\" class=\"node\">\n<title>5</title>\n<polygon fill=\"none\" stroke=\"#000000\" points=\"245.5,-365 128.5,-365 128.5,-297 245.5,-297 245.5,-365\"/>\n<text text-anchor=\"middle\" x=\"187\" y=\"-349.8\" font-family=\"Times,serif\" font-size=\"14.00\" fill=\"#000000\">X[1] &lt;= &#45;4.675</text>\n<text text-anchor=\"middle\" x=\"187\" y=\"-334.8\" font-family=\"Times,serif\" font-size=\"14.00\" fill=\"#000000\">gini = 0.192</text>\n<text text-anchor=\"middle\" x=\"187\" y=\"-319.8\" font-family=\"Times,serif\" font-size=\"14.00\" fill=\"#000000\">samples = 121</text>\n<text text-anchor=\"middle\" x=\"187\" y=\"-304.8\" font-family=\"Times,serif\" font-size=\"14.00\" fill=\"#000000\">value = [13, 108]</text>\n</g>\n<!-- 3&#45;&gt;5 -->\n<g id=\"edge5\" class=\"edge\">\n<title>3&#45;&gt;5</title>\n<path fill=\"none\" stroke=\"#000000\" d=\"M187,-400.9465C187,-392.776 187,-383.9318 187,-375.3697\"/>\n<polygon fill=\"#000000\" stroke=\"#000000\" points=\"190.5001,-375.13 187,-365.13 183.5001,-375.13 190.5001,-375.13\"/>\n</g>\n<!-- 6 -->\n<g id=\"node7\" class=\"node\">\n<title>6</title>\n<polygon fill=\"none\" stroke=\"#000000\" points=\"118,-253.5 8,-253.5 8,-200.5 118,-200.5 118,-253.5\"/>\n<text text-anchor=\"middle\" x=\"63\" y=\"-238.3\" font-family=\"Times,serif\" font-size=\"14.00\" fill=\"#000000\">gini = 0.0</text>\n<text text-anchor=\"middle\" x=\"63\" y=\"-223.3\" font-family=\"Times,serif\" font-size=\"14.00\" fill=\"#000000\">samples = 107</text>\n<text text-anchor=\"middle\" x=\"63\" y=\"-208.3\" font-family=\"Times,serif\" font-size=\"14.00\" fill=\"#000000\">value = [0, 107]</text>\n</g>\n<!-- 5&#45;&gt;6 -->\n<g id=\"edge6\" class=\"edge\">\n<title>5&#45;&gt;6</title>\n<path fill=\"none\" stroke=\"#000000\" d=\"M146.3978,-296.9465C132.3453,-285.1606 116.6212,-271.9726 102.6465,-260.2519\"/>\n<polygon fill=\"#000000\" stroke=\"#000000\" points=\"104.5575,-257.2866 94.6464,-253.5422 100.0592,-262.65 104.5575,-257.2866\"/>\n</g>\n<!-- 7 -->\n<g id=\"node8\" class=\"node\">\n<title>7</title>\n<polygon fill=\"none\" stroke=\"#000000\" points=\"238,-261 136,-261 136,-193 238,-193 238,-261\"/>\n<text text-anchor=\"middle\" x=\"187\" y=\"-245.8\" font-family=\"Times,serif\" font-size=\"14.00\" fill=\"#000000\">X[2] &lt;= 6.615</text>\n<text text-anchor=\"middle\" x=\"187\" y=\"-230.8\" font-family=\"Times,serif\" font-size=\"14.00\" fill=\"#000000\">gini = 0.133</text>\n<text text-anchor=\"middle\" x=\"187\" y=\"-215.8\" font-family=\"Times,serif\" font-size=\"14.00\" fill=\"#000000\">samples = 14</text>\n<text text-anchor=\"middle\" x=\"187\" y=\"-200.8\" font-family=\"Times,serif\" font-size=\"14.00\" fill=\"#000000\">value = [13, 1]</text>\n</g>\n<!-- 5&#45;&gt;7 -->\n<g id=\"edge7\" class=\"edge\">\n<title>5&#45;&gt;7</title>\n<path fill=\"none\" stroke=\"#000000\" d=\"M187,-296.9465C187,-288.776 187,-279.9318 187,-271.3697\"/>\n<polygon fill=\"#000000\" stroke=\"#000000\" points=\"190.5001,-271.13 187,-261.13 183.5001,-271.13 190.5001,-271.13\"/>\n</g>\n<!-- 8 -->\n<g id=\"node9\" class=\"node\">\n<title>8</title>\n<polygon fill=\"none\" stroke=\"#000000\" points=\"174.5,-157 73.5,-157 73.5,-89 174.5,-89 174.5,-157\"/>\n<text text-anchor=\"middle\" x=\"124\" y=\"-141.8\" font-family=\"Times,serif\" font-size=\"14.00\" fill=\"#000000\">X[2] &lt;= 6.337</text>\n<text text-anchor=\"middle\" x=\"124\" y=\"-126.8\" font-family=\"Times,serif\" font-size=\"14.00\" fill=\"#000000\">gini = 0.5</text>\n<text text-anchor=\"middle\" x=\"124\" y=\"-111.8\" font-family=\"Times,serif\" font-size=\"14.00\" fill=\"#000000\">samples = 2</text>\n<text text-anchor=\"middle\" x=\"124\" y=\"-96.8\" font-family=\"Times,serif\" font-size=\"14.00\" fill=\"#000000\">value = [1, 1]</text>\n</g>\n<!-- 7&#45;&gt;8 -->\n<g id=\"edge8\" class=\"edge\">\n<title>7&#45;&gt;8</title>\n<path fill=\"none\" stroke=\"#000000\" d=\"M166.3714,-192.9465C161.1501,-184.3271 155.4745,-174.9579 150.0245,-165.9611\"/>\n<polygon fill=\"#000000\" stroke=\"#000000\" points=\"152.8497,-163.8697 144.6749,-157.13 146.8626,-167.4965 152.8497,-163.8697\"/>\n</g>\n<!-- 11 -->\n<g id=\"node12\" class=\"node\">\n<title>11</title>\n<polygon fill=\"none\" stroke=\"#000000\" points=\"295,-149.5 193,-149.5 193,-96.5 295,-96.5 295,-149.5\"/>\n<text text-anchor=\"middle\" x=\"244\" y=\"-134.3\" font-family=\"Times,serif\" font-size=\"14.00\" fill=\"#000000\">gini = 0.0</text>\n<text text-anchor=\"middle\" x=\"244\" y=\"-119.3\" font-family=\"Times,serif\" font-size=\"14.00\" fill=\"#000000\">samples = 12</text>\n<text text-anchor=\"middle\" x=\"244\" y=\"-104.3\" font-family=\"Times,serif\" font-size=\"14.00\" fill=\"#000000\">value = [12, 0]</text>\n</g>\n<!-- 7&#45;&gt;11 -->\n<g id=\"edge11\" class=\"edge\">\n<title>7&#45;&gt;11</title>\n<path fill=\"none\" stroke=\"#000000\" d=\"M205.6639,-192.9465C211.7009,-181.9316 218.4091,-169.6922 224.5047,-158.5703\"/>\n<polygon fill=\"#000000\" stroke=\"#000000\" points=\"227.7158,-159.9936 229.4529,-149.5422 221.5773,-156.6292 227.7158,-159.9936\"/>\n</g>\n<!-- 9 -->\n<g id=\"node10\" class=\"node\">\n<title>9</title>\n<polygon fill=\"none\" stroke=\"#000000\" points=\"115.5,-53 20.5,-53 20.5,0 115.5,0 115.5,-53\"/>\n<text text-anchor=\"middle\" x=\"68\" y=\"-37.8\" font-family=\"Times,serif\" font-size=\"14.00\" fill=\"#000000\">gini = 0.0</text>\n<text text-anchor=\"middle\" x=\"68\" y=\"-22.8\" font-family=\"Times,serif\" font-size=\"14.00\" fill=\"#000000\">samples = 1</text>\n<text text-anchor=\"middle\" x=\"68\" y=\"-7.8\" font-family=\"Times,serif\" font-size=\"14.00\" fill=\"#000000\">value = [1, 0]</text>\n</g>\n<!-- 8&#45;&gt;9 -->\n<g id=\"edge9\" class=\"edge\">\n<title>8&#45;&gt;9</title>\n<path fill=\"none\" stroke=\"#000000\" d=\"M104.2565,-88.9777C99.2083,-80.2786 93.7669,-70.9018 88.6734,-62.1247\"/>\n<polygon fill=\"#000000\" stroke=\"#000000\" points=\"91.5689,-60.1409 83.5224,-53.2485 85.5145,-63.6544 91.5689,-60.1409\"/>\n</g>\n<!-- 10 -->\n<g id=\"node11\" class=\"node\">\n<title>10</title>\n<polygon fill=\"none\" stroke=\"#000000\" points=\"228.5,-53 133.5,-53 133.5,0 228.5,0 228.5,-53\"/>\n<text text-anchor=\"middle\" x=\"181\" y=\"-37.8\" font-family=\"Times,serif\" font-size=\"14.00\" fill=\"#000000\">gini = 0.0</text>\n<text text-anchor=\"middle\" x=\"181\" y=\"-22.8\" font-family=\"Times,serif\" font-size=\"14.00\" fill=\"#000000\">samples = 1</text>\n<text text-anchor=\"middle\" x=\"181\" y=\"-7.8\" font-family=\"Times,serif\" font-size=\"14.00\" fill=\"#000000\">value = [0, 1]</text>\n</g>\n<!-- 8&#45;&gt;10 -->\n<g id=\"edge10\" class=\"edge\">\n<title>8&#45;&gt;10</title>\n<path fill=\"none\" stroke=\"#000000\" d=\"M144.0961,-88.9777C149.2344,-80.2786 154.773,-70.9018 159.9575,-62.1247\"/>\n<polygon fill=\"#000000\" stroke=\"#000000\" points=\"163.1281,-63.6387 165.2004,-53.2485 157.101,-60.0786 163.1281,-63.6387\"/>\n</g>\n<!-- 13 -->\n<g id=\"node14\" class=\"node\">\n<title>13</title>\n<polygon fill=\"none\" stroke=\"#000000\" points=\"470,-365 368,-365 368,-297 470,-297 470,-365\"/>\n<text text-anchor=\"middle\" x=\"419\" y=\"-349.8\" font-family=\"Times,serif\" font-size=\"14.00\" fill=\"#000000\">X[1] &lt;= 5.643</text>\n<text text-anchor=\"middle\" x=\"419\" y=\"-334.8\" font-family=\"Times,serif\" font-size=\"14.00\" fill=\"#000000\">gini = 0.085</text>\n<text text-anchor=\"middle\" x=\"419\" y=\"-319.8\" font-family=\"Times,serif\" font-size=\"14.00\" fill=\"#000000\">samples = 45</text>\n<text text-anchor=\"middle\" x=\"419\" y=\"-304.8\" font-family=\"Times,serif\" font-size=\"14.00\" fill=\"#000000\">value = [2, 43]</text>\n</g>\n<!-- 12&#45;&gt;13 -->\n<g id=\"edge13\" class=\"edge\">\n<title>12&#45;&gt;13</title>\n<path fill=\"none\" stroke=\"#000000\" d=\"M419,-400.9465C419,-392.776 419,-383.9318 419,-375.3697\"/>\n<polygon fill=\"#000000\" stroke=\"#000000\" points=\"422.5001,-375.13 419,-365.13 415.5001,-375.13 422.5001,-375.13\"/>\n</g>\n<!-- 16 -->\n<g id=\"node17\" class=\"node\">\n<title>16</title>\n<polygon fill=\"none\" stroke=\"#000000\" points=\"592,-365 490,-365 490,-297 592,-297 592,-365\"/>\n<text text-anchor=\"middle\" x=\"541\" y=\"-349.8\" font-family=\"Times,serif\" font-size=\"14.00\" fill=\"#000000\">X[3] &lt;= 0.913</text>\n<text text-anchor=\"middle\" x=\"541\" y=\"-334.8\" font-family=\"Times,serif\" font-size=\"14.00\" fill=\"#000000\">gini = 0.375</text>\n<text text-anchor=\"middle\" x=\"541\" y=\"-319.8\" font-family=\"Times,serif\" font-size=\"14.00\" fill=\"#000000\">samples = 24</text>\n<text text-anchor=\"middle\" x=\"541\" y=\"-304.8\" font-family=\"Times,serif\" font-size=\"14.00\" fill=\"#000000\">value = [18, 6]</text>\n</g>\n<!-- 12&#45;&gt;16 -->\n<g id=\"edge16\" class=\"edge\">\n<title>12&#45;&gt;16</title>\n<path fill=\"none\" stroke=\"#000000\" d=\"M458.9474,-400.9465C469.9012,-391.6088 481.8873,-381.3911 493.232,-371.7203\"/>\n<polygon fill=\"#000000\" stroke=\"#000000\" points=\"495.6233,-374.2809 500.9629,-365.13 491.0821,-368.9538 495.6233,-374.2809\"/>\n</g>\n<!-- 14 -->\n<g id=\"node15\" class=\"node\">\n<title>14</title>\n<polygon fill=\"none\" stroke=\"#000000\" points=\"358,-253.5 256,-253.5 256,-200.5 358,-200.5 358,-253.5\"/>\n<text text-anchor=\"middle\" x=\"307\" y=\"-238.3\" font-family=\"Times,serif\" font-size=\"14.00\" fill=\"#000000\">gini = 0.0</text>\n<text text-anchor=\"middle\" x=\"307\" y=\"-223.3\" font-family=\"Times,serif\" font-size=\"14.00\" fill=\"#000000\">samples = 43</text>\n<text text-anchor=\"middle\" x=\"307\" y=\"-208.3\" font-family=\"Times,serif\" font-size=\"14.00\" fill=\"#000000\">value = [0, 43]</text>\n</g>\n<!-- 13&#45;&gt;14 -->\n<g id=\"edge14\" class=\"edge\">\n<title>13&#45;&gt;14</title>\n<path fill=\"none\" stroke=\"#000000\" d=\"M382.327,-296.9465C369.7531,-285.2707 355.6974,-272.219 343.1641,-260.5809\"/>\n<polygon fill=\"#000000\" stroke=\"#000000\" points=\"345.2934,-257.7819 335.5839,-253.5422 340.5302,-262.9115 345.2934,-257.7819\"/>\n</g>\n<!-- 15 -->\n<g id=\"node16\" class=\"node\">\n<title>15</title>\n<polygon fill=\"none\" stroke=\"#000000\" points=\"471.5,-253.5 376.5,-253.5 376.5,-200.5 471.5,-200.5 471.5,-253.5\"/>\n<text text-anchor=\"middle\" x=\"424\" y=\"-238.3\" font-family=\"Times,serif\" font-size=\"14.00\" fill=\"#000000\">gini = 0.0</text>\n<text text-anchor=\"middle\" x=\"424\" y=\"-223.3\" font-family=\"Times,serif\" font-size=\"14.00\" fill=\"#000000\">samples = 2</text>\n<text text-anchor=\"middle\" x=\"424\" y=\"-208.3\" font-family=\"Times,serif\" font-size=\"14.00\" fill=\"#000000\">value = [2, 0]</text>\n</g>\n<!-- 13&#45;&gt;15 -->\n<g id=\"edge15\" class=\"edge\">\n<title>13&#45;&gt;15</title>\n<path fill=\"none\" stroke=\"#000000\" d=\"M420.6372,-296.9465C421.1509,-286.2621 421.7199,-274.4254 422.2416,-263.5742\"/>\n<polygon fill=\"#000000\" stroke=\"#000000\" points=\"425.7396,-263.6987 422.7239,-253.5422 418.7477,-263.3625 425.7396,-263.6987\"/>\n</g>\n<!-- 17 -->\n<g id=\"node18\" class=\"node\">\n<title>17</title>\n<polygon fill=\"none\" stroke=\"#000000\" points=\"592,-261 490,-261 490,-193 592,-193 592,-261\"/>\n<text text-anchor=\"middle\" x=\"541\" y=\"-245.8\" font-family=\"Times,serif\" font-size=\"14.00\" fill=\"#000000\">X[2] &lt;= 1.037</text>\n<text text-anchor=\"middle\" x=\"541\" y=\"-230.8\" font-family=\"Times,serif\" font-size=\"14.00\" fill=\"#000000\">gini = 0.1</text>\n<text text-anchor=\"middle\" x=\"541\" y=\"-215.8\" font-family=\"Times,serif\" font-size=\"14.00\" fill=\"#000000\">samples = 19</text>\n<text text-anchor=\"middle\" x=\"541\" y=\"-200.8\" font-family=\"Times,serif\" font-size=\"14.00\" fill=\"#000000\">value = [18, 1]</text>\n</g>\n<!-- 16&#45;&gt;17 -->\n<g id=\"edge17\" class=\"edge\">\n<title>16&#45;&gt;17</title>\n<path fill=\"none\" stroke=\"#000000\" d=\"M541,-296.9465C541,-288.776 541,-279.9318 541,-271.3697\"/>\n<polygon fill=\"#000000\" stroke=\"#000000\" points=\"544.5001,-271.13 541,-261.13 537.5001,-271.13 544.5001,-271.13\"/>\n</g>\n<!-- 22 -->\n<g id=\"node23\" class=\"node\">\n<title>22</title>\n<polygon fill=\"none\" stroke=\"#000000\" points=\"705.5,-253.5 610.5,-253.5 610.5,-200.5 705.5,-200.5 705.5,-253.5\"/>\n<text text-anchor=\"middle\" x=\"658\" y=\"-238.3\" font-family=\"Times,serif\" font-size=\"14.00\" fill=\"#000000\">gini = 0.0</text>\n<text text-anchor=\"middle\" x=\"658\" y=\"-223.3\" font-family=\"Times,serif\" font-size=\"14.00\" fill=\"#000000\">samples = 5</text>\n<text text-anchor=\"middle\" x=\"658\" y=\"-208.3\" font-family=\"Times,serif\" font-size=\"14.00\" fill=\"#000000\">value = [0, 5]</text>\n</g>\n<!-- 16&#45;&gt;22 -->\n<g id=\"edge22\" class=\"edge\">\n<title>16&#45;&gt;22</title>\n<path fill=\"none\" stroke=\"#000000\" d=\"M579.3102,-296.9465C592.5694,-285.1606 607.4058,-271.9726 620.5916,-260.2519\"/>\n<polygon fill=\"#000000\" stroke=\"#000000\" points=\"622.9912,-262.8018 628.1401,-253.5422 618.3407,-257.5699 622.9912,-262.8018\"/>\n</g>\n<!-- 18 -->\n<g id=\"node19\" class=\"node\">\n<title>18</title>\n<polygon fill=\"none\" stroke=\"#000000\" points=\"531.5,-157 430.5,-157 430.5,-89 531.5,-89 531.5,-157\"/>\n<text text-anchor=\"middle\" x=\"481\" y=\"-141.8\" font-family=\"Times,serif\" font-size=\"14.00\" fill=\"#000000\">X[2] &lt;= 0.962</text>\n<text text-anchor=\"middle\" x=\"481\" y=\"-126.8\" font-family=\"Times,serif\" font-size=\"14.00\" fill=\"#000000\">gini = 0.5</text>\n<text text-anchor=\"middle\" x=\"481\" y=\"-111.8\" font-family=\"Times,serif\" font-size=\"14.00\" fill=\"#000000\">samples = 2</text>\n<text text-anchor=\"middle\" x=\"481\" y=\"-96.8\" font-family=\"Times,serif\" font-size=\"14.00\" fill=\"#000000\">value = [1, 1]</text>\n</g>\n<!-- 17&#45;&gt;18 -->\n<g id=\"edge18\" class=\"edge\">\n<title>17&#45;&gt;18</title>\n<path fill=\"none\" stroke=\"#000000\" d=\"M521.3538,-192.9465C516.381,-184.3271 510.9757,-174.9579 505.7852,-165.9611\"/>\n<polygon fill=\"#000000\" stroke=\"#000000\" points=\"508.7193,-164.0428 500.6904,-157.13 502.656,-167.5409 508.7193,-164.0428\"/>\n</g>\n<!-- 21 -->\n<g id=\"node22\" class=\"node\">\n<title>21</title>\n<polygon fill=\"none\" stroke=\"#000000\" points=\"652,-149.5 550,-149.5 550,-96.5 652,-96.5 652,-149.5\"/>\n<text text-anchor=\"middle\" x=\"601\" y=\"-134.3\" font-family=\"Times,serif\" font-size=\"14.00\" fill=\"#000000\">gini = 0.0</text>\n<text text-anchor=\"middle\" x=\"601\" y=\"-119.3\" font-family=\"Times,serif\" font-size=\"14.00\" fill=\"#000000\">samples = 17</text>\n<text text-anchor=\"middle\" x=\"601\" y=\"-104.3\" font-family=\"Times,serif\" font-size=\"14.00\" fill=\"#000000\">value = [17, 0]</text>\n</g>\n<!-- 17&#45;&gt;21 -->\n<g id=\"edge21\" class=\"edge\">\n<title>17&#45;&gt;21</title>\n<path fill=\"none\" stroke=\"#000000\" d=\"M560.6462,-192.9465C567.0645,-181.8215 574.2035,-169.4473 580.671,-158.237\"/>\n<polygon fill=\"#000000\" stroke=\"#000000\" points=\"583.7216,-159.9531 585.6872,-149.5422 577.6583,-156.455 583.7216,-159.9531\"/>\n</g>\n<!-- 19 -->\n<g id=\"node20\" class=\"node\">\n<title>19</title>\n<polygon fill=\"none\" stroke=\"#000000\" points=\"472.5,-53 377.5,-53 377.5,0 472.5,0 472.5,-53\"/>\n<text text-anchor=\"middle\" x=\"425\" y=\"-37.8\" font-family=\"Times,serif\" font-size=\"14.00\" fill=\"#000000\">gini = 0.0</text>\n<text text-anchor=\"middle\" x=\"425\" y=\"-22.8\" font-family=\"Times,serif\" font-size=\"14.00\" fill=\"#000000\">samples = 1</text>\n<text text-anchor=\"middle\" x=\"425\" y=\"-7.8\" font-family=\"Times,serif\" font-size=\"14.00\" fill=\"#000000\">value = [1, 0]</text>\n</g>\n<!-- 18&#45;&gt;19 -->\n<g id=\"edge19\" class=\"edge\">\n<title>18&#45;&gt;19</title>\n<path fill=\"none\" stroke=\"#000000\" d=\"M461.2565,-88.9777C456.2083,-80.2786 450.7669,-70.9018 445.6734,-62.1247\"/>\n<polygon fill=\"#000000\" stroke=\"#000000\" points=\"448.5689,-60.1409 440.5224,-53.2485 442.5145,-63.6544 448.5689,-60.1409\"/>\n</g>\n<!-- 20 -->\n<g id=\"node21\" class=\"node\">\n<title>20</title>\n<polygon fill=\"none\" stroke=\"#000000\" points=\"585.5,-53 490.5,-53 490.5,0 585.5,0 585.5,-53\"/>\n<text text-anchor=\"middle\" x=\"538\" y=\"-37.8\" font-family=\"Times,serif\" font-size=\"14.00\" fill=\"#000000\">gini = 0.0</text>\n<text text-anchor=\"middle\" x=\"538\" y=\"-22.8\" font-family=\"Times,serif\" font-size=\"14.00\" fill=\"#000000\">samples = 1</text>\n<text text-anchor=\"middle\" x=\"538\" y=\"-7.8\" font-family=\"Times,serif\" font-size=\"14.00\" fill=\"#000000\">value = [0, 1]</text>\n</g>\n<!-- 18&#45;&gt;20 -->\n<g id=\"edge20\" class=\"edge\">\n<title>18&#45;&gt;20</title>\n<path fill=\"none\" stroke=\"#000000\" d=\"M501.0961,-88.9777C506.2344,-80.2786 511.773,-70.9018 516.9575,-62.1247\"/>\n<polygon fill=\"#000000\" stroke=\"#000000\" points=\"520.1281,-63.6387 522.2004,-53.2485 514.101,-60.0786 520.1281,-63.6387\"/>\n</g>\n<!-- 24 -->\n<g id=\"node25\" class=\"node\">\n<title>24</title>\n<polygon fill=\"none\" stroke=\"#000000\" points=\"594,-461.5 492,-461.5 492,-408.5 594,-408.5 594,-461.5\"/>\n<text text-anchor=\"middle\" x=\"543\" y=\"-446.3\" font-family=\"Times,serif\" font-size=\"14.00\" fill=\"#000000\">gini = 0.0</text>\n<text text-anchor=\"middle\" x=\"543\" y=\"-431.3\" font-family=\"Times,serif\" font-size=\"14.00\" fill=\"#000000\">samples = 15</text>\n<text text-anchor=\"middle\" x=\"543\" y=\"-416.3\" font-family=\"Times,serif\" font-size=\"14.00\" fill=\"#000000\">value = [0, 15]</text>\n</g>\n<!-- 23&#45;&gt;24 -->\n<g id=\"edge24\" class=\"edge\">\n<title>23&#45;&gt;24</title>\n<path fill=\"none\" stroke=\"#000000\" d=\"M580.6635,-504.9465C574.7324,-493.9316 568.1419,-481.6922 562.1532,-470.5703\"/>\n<polygon fill=\"#000000\" stroke=\"#000000\" points=\"565.1146,-468.6875 557.2919,-461.5422 558.9513,-472.0063 565.1146,-468.6875\"/>\n</g>\n<!-- 25 -->\n<g id=\"node26\" class=\"node\">\n<title>25</title>\n<polygon fill=\"none\" stroke=\"#000000\" points=\"714,-461.5 612,-461.5 612,-408.5 714,-408.5 714,-461.5\"/>\n<text text-anchor=\"middle\" x=\"663\" y=\"-446.3\" font-family=\"Times,serif\" font-size=\"14.00\" fill=\"#000000\">gini = 0.0</text>\n<text text-anchor=\"middle\" x=\"663\" y=\"-431.3\" font-family=\"Times,serif\" font-size=\"14.00\" fill=\"#000000\">samples = 66</text>\n<text text-anchor=\"middle\" x=\"663\" y=\"-416.3\" font-family=\"Times,serif\" font-size=\"14.00\" fill=\"#000000\">value = [66, 0]</text>\n</g>\n<!-- 23&#45;&gt;25 -->\n<g id=\"edge25\" class=\"edge\">\n<title>23&#45;&gt;25</title>\n<path fill=\"none\" stroke=\"#000000\" d=\"M619.956,-504.9465C626.8022,-493.8215 634.4171,-481.4473 641.3157,-470.237\"/>\n<polygon fill=\"#000000\" stroke=\"#000000\" points=\"644.4061,-471.8931 646.6664,-461.5422 638.4445,-468.2244 644.4061,-471.8931\"/>\n</g>\n<!-- 27 -->\n<g id=\"node28\" class=\"node\">\n<title>27</title>\n<polygon fill=\"none\" stroke=\"#000000\" points=\"890,-573 788,-573 788,-505 890,-505 890,-573\"/>\n<text text-anchor=\"middle\" x=\"839\" y=\"-557.8\" font-family=\"Times,serif\" font-size=\"14.00\" fill=\"#000000\">X[1] &lt;= 7.331</text>\n<text text-anchor=\"middle\" x=\"839\" y=\"-542.8\" font-family=\"Times,serif\" font-size=\"14.00\" fill=\"#000000\">gini = 0.36</text>\n<text text-anchor=\"middle\" x=\"839\" y=\"-527.8\" font-family=\"Times,serif\" font-size=\"14.00\" fill=\"#000000\">samples = 34</text>\n<text text-anchor=\"middle\" x=\"839\" y=\"-512.8\" font-family=\"Times,serif\" font-size=\"14.00\" fill=\"#000000\">value = [8, 26]</text>\n</g>\n<!-- 26&#45;&gt;27 -->\n<g id=\"edge27\" class=\"edge\">\n<title>26&#45;&gt;27</title>\n<path fill=\"none\" stroke=\"#000000\" d=\"M839,-608.9465C839,-600.776 839,-591.9318 839,-583.3697\"/>\n<polygon fill=\"#000000\" stroke=\"#000000\" points=\"842.5001,-583.13 839,-573.13 835.5001,-583.13 842.5001,-583.13\"/>\n</g>\n<!-- 30 -->\n<g id=\"node31\" class=\"node\">\n<title>30</title>\n<polygon fill=\"none\" stroke=\"#000000\" points=\"1082.5,-573 965.5,-573 965.5,-505 1082.5,-505 1082.5,-573\"/>\n<text text-anchor=\"middle\" x=\"1024\" y=\"-557.8\" font-family=\"Times,serif\" font-size=\"14.00\" fill=\"#000000\">X[0] &lt;= 1.592</text>\n<text text-anchor=\"middle\" x=\"1024\" y=\"-542.8\" font-family=\"Times,serif\" font-size=\"14.00\" fill=\"#000000\">gini = 0.111</text>\n<text text-anchor=\"middle\" x=\"1024\" y=\"-527.8\" font-family=\"Times,serif\" font-size=\"14.00\" fill=\"#000000\">samples = 525</text>\n<text text-anchor=\"middle\" x=\"1024\" y=\"-512.8\" font-family=\"Times,serif\" font-size=\"14.00\" fill=\"#000000\">value = [494, 31]</text>\n</g>\n<!-- 26&#45;&gt;30 -->\n<g id=\"edge30\" class=\"edge\">\n<title>26&#45;&gt;30</title>\n<path fill=\"none\" stroke=\"#000000\" d=\"M897.5352,-610.0938C916.2621,-599.5662 937.1458,-587.8261 956.4603,-576.9683\"/>\n<polygon fill=\"#000000\" stroke=\"#000000\" points=\"958.2088,-580.0005 965.2107,-572.0491 954.7785,-573.8986 958.2088,-580.0005\"/>\n</g>\n<!-- 28 -->\n<g id=\"node29\" class=\"node\">\n<title>28</title>\n<polygon fill=\"none\" stroke=\"#000000\" points=\"834,-461.5 732,-461.5 732,-408.5 834,-408.5 834,-461.5\"/>\n<text text-anchor=\"middle\" x=\"783\" y=\"-446.3\" font-family=\"Times,serif\" font-size=\"14.00\" fill=\"#000000\">gini = 0.0</text>\n<text text-anchor=\"middle\" x=\"783\" y=\"-431.3\" font-family=\"Times,serif\" font-size=\"14.00\" fill=\"#000000\">samples = 26</text>\n<text text-anchor=\"middle\" x=\"783\" y=\"-416.3\" font-family=\"Times,serif\" font-size=\"14.00\" fill=\"#000000\">value = [0, 26]</text>\n</g>\n<!-- 27&#45;&gt;28 -->\n<g id=\"edge28\" class=\"edge\">\n<title>27&#45;&gt;28</title>\n<path fill=\"none\" stroke=\"#000000\" d=\"M820.6635,-504.9465C814.7324,-493.9316 808.1419,-481.6922 802.1532,-470.5703\"/>\n<polygon fill=\"#000000\" stroke=\"#000000\" points=\"805.1146,-468.6875 797.2919,-461.5422 798.9513,-472.0063 805.1146,-468.6875\"/>\n</g>\n<!-- 29 -->\n<g id=\"node30\" class=\"node\">\n<title>29</title>\n<polygon fill=\"none\" stroke=\"#000000\" points=\"947.5,-461.5 852.5,-461.5 852.5,-408.5 947.5,-408.5 947.5,-461.5\"/>\n<text text-anchor=\"middle\" x=\"900\" y=\"-446.3\" font-family=\"Times,serif\" font-size=\"14.00\" fill=\"#000000\">gini = 0.0</text>\n<text text-anchor=\"middle\" x=\"900\" y=\"-431.3\" font-family=\"Times,serif\" font-size=\"14.00\" fill=\"#000000\">samples = 8</text>\n<text text-anchor=\"middle\" x=\"900\" y=\"-416.3\" font-family=\"Times,serif\" font-size=\"14.00\" fill=\"#000000\">value = [8, 0]</text>\n</g>\n<!-- 27&#45;&gt;29 -->\n<g id=\"edge29\" class=\"edge\">\n<title>27&#45;&gt;29</title>\n<path fill=\"none\" stroke=\"#000000\" d=\"M858.9737,-504.9465C865.499,-493.8215 872.7569,-481.4473 879.3322,-470.237\"/>\n<polygon fill=\"#000000\" stroke=\"#000000\" points=\"882.3916,-471.9387 884.432,-461.5422 876.3536,-468.3971 882.3916,-471.9387\"/>\n</g>\n<!-- 31 -->\n<g id=\"node32\" class=\"node\">\n<title>31</title>\n<polygon fill=\"none\" stroke=\"#000000\" points=\"1082,-469 966,-469 966,-401 1082,-401 1082,-469\"/>\n<text text-anchor=\"middle\" x=\"1024\" y=\"-453.8\" font-family=\"Times,serif\" font-size=\"14.00\" fill=\"#000000\">X[2] &lt;= &#45;2.272</text>\n<text text-anchor=\"middle\" x=\"1024\" y=\"-438.8\" font-family=\"Times,serif\" font-size=\"14.00\" fill=\"#000000\">gini = 0.328</text>\n<text text-anchor=\"middle\" x=\"1024\" y=\"-423.8\" font-family=\"Times,serif\" font-size=\"14.00\" fill=\"#000000\">samples = 140</text>\n<text text-anchor=\"middle\" x=\"1024\" y=\"-408.8\" font-family=\"Times,serif\" font-size=\"14.00\" fill=\"#000000\">value = [111, 29]</text>\n</g>\n<!-- 30&#45;&gt;31 -->\n<g id=\"edge31\" class=\"edge\">\n<title>30&#45;&gt;31</title>\n<path fill=\"none\" stroke=\"#000000\" d=\"M1024,-504.9465C1024,-496.776 1024,-487.9318 1024,-479.3697\"/>\n<polygon fill=\"#000000\" stroke=\"#000000\" points=\"1027.5001,-479.13 1024,-469.13 1020.5001,-479.13 1027.5001,-479.13\"/>\n</g>\n<!-- 46 -->\n<g id=\"node47\" class=\"node\">\n<title>46</title>\n<polygon fill=\"none\" stroke=\"#000000\" points=\"1319,-469 1209,-469 1209,-401 1319,-401 1319,-469\"/>\n<text text-anchor=\"middle\" x=\"1264\" y=\"-453.8\" font-family=\"Times,serif\" font-size=\"14.00\" fill=\"#000000\">X[0] &lt;= 2.037</text>\n<text text-anchor=\"middle\" x=\"1264\" y=\"-438.8\" font-family=\"Times,serif\" font-size=\"14.00\" fill=\"#000000\">gini = 0.01</text>\n<text text-anchor=\"middle\" x=\"1264\" y=\"-423.8\" font-family=\"Times,serif\" font-size=\"14.00\" fill=\"#000000\">samples = 385</text>\n<text text-anchor=\"middle\" x=\"1264\" y=\"-408.8\" font-family=\"Times,serif\" font-size=\"14.00\" fill=\"#000000\">value = [383, 2]</text>\n</g>\n<!-- 30&#45;&gt;46 -->\n<g id=\"edge46\" class=\"edge\">\n<title>30&#45;&gt;46</title>\n<path fill=\"none\" stroke=\"#000000\" d=\"M1082.7106,-513.5587C1117.9974,-498.2678 1162.9493,-478.7886 1199.2628,-463.0528\"/>\n<polygon fill=\"#000000\" stroke=\"#000000\" points=\"1200.994,-466.1171 1208.7779,-458.9296 1198.2107,-459.6942 1200.994,-466.1171\"/>\n</g>\n<!-- 32 -->\n<g id=\"node33\" class=\"node\">\n<title>32</title>\n<polygon fill=\"none\" stroke=\"#000000\" points=\"946,-365 844,-365 844,-297 946,-297 946,-365\"/>\n<text text-anchor=\"middle\" x=\"895\" y=\"-349.8\" font-family=\"Times,serif\" font-size=\"14.00\" fill=\"#000000\">X[1] &lt;= 5.736</text>\n<text text-anchor=\"middle\" x=\"895\" y=\"-334.8\" font-family=\"Times,serif\" font-size=\"14.00\" fill=\"#000000\">gini = 0.1</text>\n<text text-anchor=\"middle\" x=\"895\" y=\"-319.8\" font-family=\"Times,serif\" font-size=\"14.00\" fill=\"#000000\">samples = 19</text>\n<text text-anchor=\"middle\" x=\"895\" y=\"-304.8\" font-family=\"Times,serif\" font-size=\"14.00\" fill=\"#000000\">value = [1, 18]</text>\n</g>\n<!-- 31&#45;&gt;32 -->\n<g id=\"edge32\" class=\"edge\">\n<title>31&#45;&gt;32</title>\n<path fill=\"none\" stroke=\"#000000\" d=\"M981.7606,-400.9465C970.0669,-391.519 957.2606,-381.1946 945.163,-371.4415\"/>\n<polygon fill=\"#000000\" stroke=\"#000000\" points=\"947.3162,-368.6816 937.3343,-365.13 942.9227,-374.1312 947.3162,-368.6816\"/>\n</g>\n<!-- 35 -->\n<g id=\"node36\" class=\"node\">\n<title>35</title>\n<polygon fill=\"none\" stroke=\"#000000\" points=\"1082,-365 966,-365 966,-297 1082,-297 1082,-365\"/>\n<text text-anchor=\"middle\" x=\"1024\" y=\"-349.8\" font-family=\"Times,serif\" font-size=\"14.00\" fill=\"#000000\">X[3] &lt;= 0.082</text>\n<text text-anchor=\"middle\" x=\"1024\" y=\"-334.8\" font-family=\"Times,serif\" font-size=\"14.00\" fill=\"#000000\">gini = 0.165</text>\n<text text-anchor=\"middle\" x=\"1024\" y=\"-319.8\" font-family=\"Times,serif\" font-size=\"14.00\" fill=\"#000000\">samples = 121</text>\n<text text-anchor=\"middle\" x=\"1024\" y=\"-304.8\" font-family=\"Times,serif\" font-size=\"14.00\" fill=\"#000000\">value = [110, 11]</text>\n</g>\n<!-- 31&#45;&gt;35 -->\n<g id=\"edge35\" class=\"edge\">\n<title>31&#45;&gt;35</title>\n<path fill=\"none\" stroke=\"#000000\" d=\"M1024,-400.9465C1024,-392.776 1024,-383.9318 1024,-375.3697\"/>\n<polygon fill=\"#000000\" stroke=\"#000000\" points=\"1027.5001,-375.13 1024,-365.13 1020.5001,-375.13 1027.5001,-375.13\"/>\n</g>\n<!-- 33 -->\n<g id=\"node34\" class=\"node\">\n<title>33</title>\n<polygon fill=\"none\" stroke=\"#000000\" points=\"829,-253.5 727,-253.5 727,-200.5 829,-200.5 829,-253.5\"/>\n<text text-anchor=\"middle\" x=\"778\" y=\"-238.3\" font-family=\"Times,serif\" font-size=\"14.00\" fill=\"#000000\">gini = 0.0</text>\n<text text-anchor=\"middle\" x=\"778\" y=\"-223.3\" font-family=\"Times,serif\" font-size=\"14.00\" fill=\"#000000\">samples = 18</text>\n<text text-anchor=\"middle\" x=\"778\" y=\"-208.3\" font-family=\"Times,serif\" font-size=\"14.00\" fill=\"#000000\">value = [0, 18]</text>\n</g>\n<!-- 32&#45;&gt;33 -->\n<g id=\"edge33\" class=\"edge\">\n<title>32&#45;&gt;33</title>\n<path fill=\"none\" stroke=\"#000000\" d=\"M856.6898,-296.9465C843.4306,-285.1606 828.5942,-271.9726 815.4084,-260.2519\"/>\n<polygon fill=\"#000000\" stroke=\"#000000\" points=\"817.6593,-257.5699 807.8599,-253.5422 813.0088,-262.8018 817.6593,-257.5699\"/>\n</g>\n<!-- 34 -->\n<g id=\"node35\" class=\"node\">\n<title>34</title>\n<polygon fill=\"none\" stroke=\"#000000\" points=\"942.5,-253.5 847.5,-253.5 847.5,-200.5 942.5,-200.5 942.5,-253.5\"/>\n<text text-anchor=\"middle\" x=\"895\" y=\"-238.3\" font-family=\"Times,serif\" font-size=\"14.00\" fill=\"#000000\">gini = 0.0</text>\n<text text-anchor=\"middle\" x=\"895\" y=\"-223.3\" font-family=\"Times,serif\" font-size=\"14.00\" fill=\"#000000\">samples = 1</text>\n<text text-anchor=\"middle\" x=\"895\" y=\"-208.3\" font-family=\"Times,serif\" font-size=\"14.00\" fill=\"#000000\">value = [1, 0]</text>\n</g>\n<!-- 32&#45;&gt;34 -->\n<g id=\"edge34\" class=\"edge\">\n<title>32&#45;&gt;34</title>\n<path fill=\"none\" stroke=\"#000000\" d=\"M895,-296.9465C895,-286.2621 895,-274.4254 895,-263.5742\"/>\n<polygon fill=\"#000000\" stroke=\"#000000\" points=\"898.5001,-263.5421 895,-253.5422 891.5001,-263.5422 898.5001,-263.5421\"/>\n</g>\n<!-- 36 -->\n<g id=\"node37\" class=\"node\">\n<title>36</title>\n<polygon fill=\"none\" stroke=\"#000000\" points=\"1067,-261 961,-261 961,-193 1067,-193 1067,-261\"/>\n<text text-anchor=\"middle\" x=\"1014\" y=\"-245.8\" font-family=\"Times,serif\" font-size=\"14.00\" fill=\"#000000\">X[2] &lt;= &#45;1.434</text>\n<text text-anchor=\"middle\" x=\"1014\" y=\"-230.8\" font-family=\"Times,serif\" font-size=\"14.00\" fill=\"#000000\">gini = 0.021</text>\n<text text-anchor=\"middle\" x=\"1014\" y=\"-215.8\" font-family=\"Times,serif\" font-size=\"14.00\" fill=\"#000000\">samples = 93</text>\n<text text-anchor=\"middle\" x=\"1014\" y=\"-200.8\" font-family=\"Times,serif\" font-size=\"14.00\" fill=\"#000000\">value = [92, 1]</text>\n</g>\n<!-- 35&#45;&gt;36 -->\n<g id=\"edge36\" class=\"edge\">\n<title>35&#45;&gt;36</title>\n<path fill=\"none\" stroke=\"#000000\" d=\"M1020.7256,-296.9465C1019.9314,-288.6863 1019.0709,-279.7374 1018.2392,-271.0875\"/>\n<polygon fill=\"#000000\" stroke=\"#000000\" points=\"1021.7229,-270.7491 1017.2817,-261.13 1014.755,-271.4191 1021.7229,-270.7491\"/>\n</g>\n<!-- 41 -->\n<g id=\"node42\" class=\"node\">\n<title>41</title>\n<polygon fill=\"none\" stroke=\"#000000\" points=\"1195,-261 1085,-261 1085,-193 1195,-193 1195,-261\"/>\n<text text-anchor=\"middle\" x=\"1140\" y=\"-245.8\" font-family=\"Times,serif\" font-size=\"14.00\" fill=\"#000000\">X[2] &lt;= 1.393</text>\n<text text-anchor=\"middle\" x=\"1140\" y=\"-230.8\" font-family=\"Times,serif\" font-size=\"14.00\" fill=\"#000000\">gini = 0.459</text>\n<text text-anchor=\"middle\" x=\"1140\" y=\"-215.8\" font-family=\"Times,serif\" font-size=\"14.00\" fill=\"#000000\">samples = 28</text>\n<text text-anchor=\"middle\" x=\"1140\" y=\"-200.8\" font-family=\"Times,serif\" font-size=\"14.00\" fill=\"#000000\">value = [18, 10]</text>\n</g>\n<!-- 35&#45;&gt;41 -->\n<g id=\"edge41\" class=\"edge\">\n<title>35&#45;&gt;41</title>\n<path fill=\"none\" stroke=\"#000000\" d=\"M1061.9827,-296.9465C1072.2977,-287.6986 1083.5754,-277.5876 1094.2699,-267.9994\"/>\n<polygon fill=\"#000000\" stroke=\"#000000\" points=\"1096.8226,-270.4115 1101.9319,-261.13 1092.1498,-265.1995 1096.8226,-270.4115\"/>\n</g>\n<!-- 37 -->\n<g id=\"node38\" class=\"node\">\n<title>37</title>\n<polygon fill=\"none\" stroke=\"#000000\" points=\"946,-157 844,-157 844,-89 946,-89 946,-157\"/>\n<text text-anchor=\"middle\" x=\"895\" y=\"-141.8\" font-family=\"Times,serif\" font-size=\"14.00\" fill=\"#000000\">X[0] &lt;= 0.477</text>\n<text text-anchor=\"middle\" x=\"895\" y=\"-126.8\" font-family=\"Times,serif\" font-size=\"14.00\" fill=\"#000000\">gini = 0.117</text>\n<text text-anchor=\"middle\" x=\"895\" y=\"-111.8\" font-family=\"Times,serif\" font-size=\"14.00\" fill=\"#000000\">samples = 16</text>\n<text text-anchor=\"middle\" x=\"895\" y=\"-96.8\" font-family=\"Times,serif\" font-size=\"14.00\" fill=\"#000000\">value = [15, 1]</text>\n</g>\n<!-- 36&#45;&gt;37 -->\n<g id=\"edge37\" class=\"edge\">\n<title>36&#45;&gt;37</title>\n<path fill=\"none\" stroke=\"#000000\" d=\"M975.0349,-192.9465C964.3505,-183.6088 952.6591,-173.3911 941.5934,-163.7203\"/>\n<polygon fill=\"#000000\" stroke=\"#000000\" points=\"943.8855,-161.0752 934.0526,-157.13 939.2791,-166.346 943.8855,-161.0752\"/>\n</g>\n<!-- 40 -->\n<g id=\"node41\" class=\"node\">\n<title>40</title>\n<polygon fill=\"none\" stroke=\"#000000\" points=\"1066,-149.5 964,-149.5 964,-96.5 1066,-96.5 1066,-149.5\"/>\n<text text-anchor=\"middle\" x=\"1015\" y=\"-134.3\" font-family=\"Times,serif\" font-size=\"14.00\" fill=\"#000000\">gini = 0.0</text>\n<text text-anchor=\"middle\" x=\"1015\" y=\"-119.3\" font-family=\"Times,serif\" font-size=\"14.00\" fill=\"#000000\">samples = 77</text>\n<text text-anchor=\"middle\" x=\"1015\" y=\"-104.3\" font-family=\"Times,serif\" font-size=\"14.00\" fill=\"#000000\">value = [77, 0]</text>\n</g>\n<!-- 36&#45;&gt;40 -->\n<g id=\"edge40\" class=\"edge\">\n<title>36&#45;&gt;40</title>\n<path fill=\"none\" stroke=\"#000000\" d=\"M1014.3274,-192.9465C1014.4302,-182.2621 1014.544,-170.4254 1014.6483,-159.5742\"/>\n<polygon fill=\"#000000\" stroke=\"#000000\" points=\"1018.1484,-159.5754 1014.7448,-149.5422 1011.1487,-159.508 1018.1484,-159.5754\"/>\n</g>\n<!-- 38 -->\n<g id=\"node39\" class=\"node\">\n<title>38</title>\n<polygon fill=\"none\" stroke=\"#000000\" points=\"887.5,-53 792.5,-53 792.5,0 887.5,0 887.5,-53\"/>\n<text text-anchor=\"middle\" x=\"840\" y=\"-37.8\" font-family=\"Times,serif\" font-size=\"14.00\" fill=\"#000000\">gini = 0.0</text>\n<text text-anchor=\"middle\" x=\"840\" y=\"-22.8\" font-family=\"Times,serif\" font-size=\"14.00\" fill=\"#000000\">samples = 1</text>\n<text text-anchor=\"middle\" x=\"840\" y=\"-7.8\" font-family=\"Times,serif\" font-size=\"14.00\" fill=\"#000000\">value = [0, 1]</text>\n</g>\n<!-- 37&#45;&gt;38 -->\n<g id=\"edge38\" class=\"edge\">\n<title>37&#45;&gt;38</title>\n<path fill=\"none\" stroke=\"#000000\" d=\"M875.6091,-88.9777C870.651,-80.2786 865.3067,-70.9018 860.3042,-62.1247\"/>\n<polygon fill=\"#000000\" stroke=\"#000000\" points=\"863.2378,-60.2033 855.2452,-53.2485 857.1562,-63.6696 863.2378,-60.2033\"/>\n</g>\n<!-- 39 -->\n<g id=\"node40\" class=\"node\">\n<title>39</title>\n<polygon fill=\"none\" stroke=\"#000000\" points=\"1008,-53 906,-53 906,0 1008,0 1008,-53\"/>\n<text text-anchor=\"middle\" x=\"957\" y=\"-37.8\" font-family=\"Times,serif\" font-size=\"14.00\" fill=\"#000000\">gini = 0.0</text>\n<text text-anchor=\"middle\" x=\"957\" y=\"-22.8\" font-family=\"Times,serif\" font-size=\"14.00\" fill=\"#000000\">samples = 15</text>\n<text text-anchor=\"middle\" x=\"957\" y=\"-7.8\" font-family=\"Times,serif\" font-size=\"14.00\" fill=\"#000000\">value = [15, 0]</text>\n</g>\n<!-- 37&#45;&gt;39 -->\n<g id=\"edge39\" class=\"edge\">\n<title>37&#45;&gt;39</title>\n<path fill=\"none\" stroke=\"#000000\" d=\"M916.8589,-88.9777C922.5068,-80.187 928.5993,-70.7044 934.2896,-61.8477\"/>\n<polygon fill=\"#000000\" stroke=\"#000000\" points=\"937.3537,-63.5536 939.8144,-53.2485 931.4644,-59.7698 937.3537,-63.5536\"/>\n</g>\n<!-- 42 -->\n<g id=\"node43\" class=\"node\">\n<title>42</title>\n<polygon fill=\"none\" stroke=\"#000000\" points=\"1189,-157 1087,-157 1087,-89 1189,-89 1189,-157\"/>\n<text text-anchor=\"middle\" x=\"1138\" y=\"-141.8\" font-family=\"Times,serif\" font-size=\"14.00\" fill=\"#000000\">X[1] &lt;= 3.559</text>\n<text text-anchor=\"middle\" x=\"1138\" y=\"-126.8\" font-family=\"Times,serif\" font-size=\"14.00\" fill=\"#000000\">gini = 0.165</text>\n<text text-anchor=\"middle\" x=\"1138\" y=\"-111.8\" font-family=\"Times,serif\" font-size=\"14.00\" fill=\"#000000\">samples = 11</text>\n<text text-anchor=\"middle\" x=\"1138\" y=\"-96.8\" font-family=\"Times,serif\" font-size=\"14.00\" fill=\"#000000\">value = [1, 10]</text>\n</g>\n<!-- 41&#45;&gt;42 -->\n<g id=\"edge42\" class=\"edge\">\n<title>41&#45;&gt;42</title>\n<path fill=\"none\" stroke=\"#000000\" d=\"M1139.3451,-192.9465C1139.188,-184.776 1139.0179,-175.9318 1138.8533,-167.3697\"/>\n<polygon fill=\"#000000\" stroke=\"#000000\" points=\"1142.3481,-167.0608 1138.6563,-157.13 1135.3494,-167.1955 1142.3481,-167.0608\"/>\n</g>\n<!-- 45 -->\n<g id=\"node46\" class=\"node\">\n<title>45</title>\n<polygon fill=\"none\" stroke=\"#000000\" points=\"1309,-149.5 1207,-149.5 1207,-96.5 1309,-96.5 1309,-149.5\"/>\n<text text-anchor=\"middle\" x=\"1258\" y=\"-134.3\" font-family=\"Times,serif\" font-size=\"14.00\" fill=\"#000000\">gini = 0.0</text>\n<text text-anchor=\"middle\" x=\"1258\" y=\"-119.3\" font-family=\"Times,serif\" font-size=\"14.00\" fill=\"#000000\">samples = 17</text>\n<text text-anchor=\"middle\" x=\"1258\" y=\"-104.3\" font-family=\"Times,serif\" font-size=\"14.00\" fill=\"#000000\">value = [17, 0]</text>\n</g>\n<!-- 41&#45;&gt;45 -->\n<g id=\"edge45\" class=\"edge\">\n<title>41&#45;&gt;45</title>\n<path fill=\"none\" stroke=\"#000000\" d=\"M1178.6376,-192.9465C1192.0101,-181.1606 1206.9734,-167.9726 1220.2719,-156.2519\"/>\n<polygon fill=\"#000000\" stroke=\"#000000\" points=\"1222.697,-158.7799 1227.8849,-149.5422 1218.0685,-153.5285 1222.697,-158.7799\"/>\n</g>\n<!-- 43 -->\n<g id=\"node44\" class=\"node\">\n<title>43</title>\n<polygon fill=\"none\" stroke=\"#000000\" points=\"1129,-53 1027,-53 1027,0 1129,0 1129,-53\"/>\n<text text-anchor=\"middle\" x=\"1078\" y=\"-37.8\" font-family=\"Times,serif\" font-size=\"14.00\" fill=\"#000000\">gini = 0.0</text>\n<text text-anchor=\"middle\" x=\"1078\" y=\"-22.8\" font-family=\"Times,serif\" font-size=\"14.00\" fill=\"#000000\">samples = 10</text>\n<text text-anchor=\"middle\" x=\"1078\" y=\"-7.8\" font-family=\"Times,serif\" font-size=\"14.00\" fill=\"#000000\">value = [0, 10]</text>\n</g>\n<!-- 42&#45;&gt;43 -->\n<g id=\"edge43\" class=\"edge\">\n<title>42&#45;&gt;43</title>\n<path fill=\"none\" stroke=\"#000000\" d=\"M1116.8462,-88.9777C1111.3805,-80.187 1105.4846,-70.7044 1099.9778,-61.8477\"/>\n<polygon fill=\"#000000\" stroke=\"#000000\" points=\"1102.8837,-59.8927 1094.6312,-53.2485 1096.9391,-63.5889 1102.8837,-59.8927\"/>\n</g>\n<!-- 44 -->\n<g id=\"node45\" class=\"node\">\n<title>44</title>\n<polygon fill=\"none\" stroke=\"#000000\" points=\"1242.5,-53 1147.5,-53 1147.5,0 1242.5,0 1242.5,-53\"/>\n<text text-anchor=\"middle\" x=\"1195\" y=\"-37.8\" font-family=\"Times,serif\" font-size=\"14.00\" fill=\"#000000\">gini = 0.0</text>\n<text text-anchor=\"middle\" x=\"1195\" y=\"-22.8\" font-family=\"Times,serif\" font-size=\"14.00\" fill=\"#000000\">samples = 1</text>\n<text text-anchor=\"middle\" x=\"1195\" y=\"-7.8\" font-family=\"Times,serif\" font-size=\"14.00\" fill=\"#000000\">value = [1, 0]</text>\n</g>\n<!-- 42&#45;&gt;44 -->\n<g id=\"edge44\" class=\"edge\">\n<title>42&#45;&gt;44</title>\n<path fill=\"none\" stroke=\"#000000\" d=\"M1158.0961,-88.9777C1163.2344,-80.2786 1168.773,-70.9018 1173.9575,-62.1247\"/>\n<polygon fill=\"#000000\" stroke=\"#000000\" points=\"1177.1281,-63.6387 1179.2004,-53.2485 1171.101,-60.0786 1177.1281,-63.6387\"/>\n</g>\n<!-- 47 -->\n<g id=\"node48\" class=\"node\">\n<title>47</title>\n<polygon fill=\"none\" stroke=\"#000000\" points=\"1315,-365 1213,-365 1213,-297 1315,-297 1315,-365\"/>\n<text text-anchor=\"middle\" x=\"1264\" y=\"-349.8\" font-family=\"Times,serif\" font-size=\"14.00\" fill=\"#000000\">X[0] &lt;= 2.017</text>\n<text text-anchor=\"middle\" x=\"1264\" y=\"-334.8\" font-family=\"Times,serif\" font-size=\"14.00\" fill=\"#000000\">gini = 0.089</text>\n<text text-anchor=\"middle\" x=\"1264\" y=\"-319.8\" font-family=\"Times,serif\" font-size=\"14.00\" fill=\"#000000\">samples = 43</text>\n<text text-anchor=\"middle\" x=\"1264\" y=\"-304.8\" font-family=\"Times,serif\" font-size=\"14.00\" fill=\"#000000\">value = [41, 2]</text>\n</g>\n<!-- 46&#45;&gt;47 -->\n<g id=\"edge47\" class=\"edge\">\n<title>46&#45;&gt;47</title>\n<path fill=\"none\" stroke=\"#000000\" d=\"M1264,-400.9465C1264,-392.776 1264,-383.9318 1264,-375.3697\"/>\n<polygon fill=\"#000000\" stroke=\"#000000\" points=\"1267.5001,-375.13 1264,-365.13 1260.5001,-375.13 1267.5001,-375.13\"/>\n</g>\n<!-- 50 -->\n<g id=\"node51\" class=\"node\">\n<title>50</title>\n<polygon fill=\"none\" stroke=\"#000000\" points=\"1443,-357.5 1333,-357.5 1333,-304.5 1443,-304.5 1443,-357.5\"/>\n<text text-anchor=\"middle\" x=\"1388\" y=\"-342.3\" font-family=\"Times,serif\" font-size=\"14.00\" fill=\"#000000\">gini = 0.0</text>\n<text text-anchor=\"middle\" x=\"1388\" y=\"-327.3\" font-family=\"Times,serif\" font-size=\"14.00\" fill=\"#000000\">samples = 342</text>\n<text text-anchor=\"middle\" x=\"1388\" y=\"-312.3\" font-family=\"Times,serif\" font-size=\"14.00\" fill=\"#000000\">value = [342, 0]</text>\n</g>\n<!-- 46&#45;&gt;50 -->\n<g id=\"edge50\" class=\"edge\">\n<title>46&#45;&gt;50</title>\n<path fill=\"none\" stroke=\"#000000\" d=\"M1304.6022,-400.9465C1318.6547,-389.1606 1334.3788,-375.9726 1348.3535,-364.2519\"/>\n<polygon fill=\"#000000\" stroke=\"#000000\" points=\"1350.9408,-366.65 1356.3536,-357.5422 1346.4425,-361.2866 1350.9408,-366.65\"/>\n</g>\n<!-- 48 -->\n<g id=\"node49\" class=\"node\">\n<title>48</title>\n<polygon fill=\"none\" stroke=\"#000000\" points=\"1315,-253.5 1213,-253.5 1213,-200.5 1315,-200.5 1315,-253.5\"/>\n<text text-anchor=\"middle\" x=\"1264\" y=\"-238.3\" font-family=\"Times,serif\" font-size=\"14.00\" fill=\"#000000\">gini = 0.0</text>\n<text text-anchor=\"middle\" x=\"1264\" y=\"-223.3\" font-family=\"Times,serif\" font-size=\"14.00\" fill=\"#000000\">samples = 41</text>\n<text text-anchor=\"middle\" x=\"1264\" y=\"-208.3\" font-family=\"Times,serif\" font-size=\"14.00\" fill=\"#000000\">value = [41, 0]</text>\n</g>\n<!-- 47&#45;&gt;48 -->\n<g id=\"edge48\" class=\"edge\">\n<title>47&#45;&gt;48</title>\n<path fill=\"none\" stroke=\"#000000\" d=\"M1264,-296.9465C1264,-286.2621 1264,-274.4254 1264,-263.5742\"/>\n<polygon fill=\"#000000\" stroke=\"#000000\" points=\"1267.5001,-263.5421 1264,-253.5422 1260.5001,-263.5422 1267.5001,-263.5421\"/>\n</g>\n<!-- 49 -->\n<g id=\"node50\" class=\"node\">\n<title>49</title>\n<polygon fill=\"none\" stroke=\"#000000\" points=\"1428.5,-253.5 1333.5,-253.5 1333.5,-200.5 1428.5,-200.5 1428.5,-253.5\"/>\n<text text-anchor=\"middle\" x=\"1381\" y=\"-238.3\" font-family=\"Times,serif\" font-size=\"14.00\" fill=\"#000000\">gini = 0.0</text>\n<text text-anchor=\"middle\" x=\"1381\" y=\"-223.3\" font-family=\"Times,serif\" font-size=\"14.00\" fill=\"#000000\">samples = 2</text>\n<text text-anchor=\"middle\" x=\"1381\" y=\"-208.3\" font-family=\"Times,serif\" font-size=\"14.00\" fill=\"#000000\">value = [0, 2]</text>\n</g>\n<!-- 47&#45;&gt;49 -->\n<g id=\"edge49\" class=\"edge\">\n<title>47&#45;&gt;49</title>\n<path fill=\"none\" stroke=\"#000000\" d=\"M1302.3102,-296.9465C1315.5694,-285.1606 1330.4058,-271.9726 1343.5916,-260.2519\"/>\n<polygon fill=\"#000000\" stroke=\"#000000\" points=\"1345.9912,-262.8018 1351.1401,-253.5422 1341.3407,-257.5699 1345.9912,-262.8018\"/>\n</g>\n</g>\n</svg>\n"
          },
          "metadata": {
            "tags": []
          },
          "execution_count": 30
        }
      ]
    },
    {
      "cell_type": "code",
      "metadata": {
        "id": "CK9iJnuxQOFj",
        "colab_type": "code",
        "colab": {}
      },
      "source": [
        ""
      ],
      "execution_count": 0,
      "outputs": []
    }
  ]
}